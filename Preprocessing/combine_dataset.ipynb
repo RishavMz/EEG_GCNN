{
 "cells": [
  {
   "attachments": {},
   "cell_type": "markdown",
   "metadata": {},
   "source": [
    "Mostly performed SMOTE and dataset balancing in this file"
   ]
  },
  {
   "cell_type": "code",
   "execution_count": 1,
   "metadata": {},
   "outputs": [],
   "source": [
    "import numpy as np\n",
    "import pandas as pd"
   ]
  },
  {
   "cell_type": "code",
   "execution_count": 2,
   "metadata": {},
   "outputs": [],
   "source": [
    "x_train = np.load('../Data/saved_numpy_arrays/X_psd_epilepsy_corpus.npy', allow_pickle=True)\n",
    "x_test = np.load('../Data/saved_numpy_arrays/X_test_psd_epilepsy_corpus.npy', allow_pickle=True)\n",
    "\n",
    "y_train = np.load('../Data/saved_numpy_arrays/y_epilepsy_corpus.npy', allow_pickle=True)\n",
    "y_test = np.load('../Data/saved_numpy_arrays/y_test_epilepsy_corpus.npy', allow_pickle=True)\n",
    "all_x = list(x_train) + list(x_test)\n",
    "all_y = list(y_train) + list(y_test)\n",
    "di = dict()\n",
    "for i in range(len(all_y)):\n",
    "    if all_y[i] in di.keys():\n",
    "        di[all_y[i]]+=1\n",
    "    else:\n",
    "        di[all_y[i]]=1\n",
    "np.save(\"../Data/saved_numpy_arrays/X_psd_epilepsy_corpus.npy\", np.array(all_x))\n",
    "np.save(\"../Data/saved_numpy_arrays/y_epilepsy_corpus.npy\", np.array(all_y))\n"
   ]
  },
  {
   "cell_type": "code",
   "execution_count": 3,
   "metadata": {},
   "outputs": [
    {
     "name": "stdout",
     "output_type": "stream",
     "text": [
      "BCKG 20000\n",
      "FNSZ 587\n",
      "ABSZ 81\n",
      "CPSZ 182\n",
      "TCSZ 20\n",
      "GNSZ 261\n",
      "MYSZ 6\n",
      "SPSZ 10\n",
      "TNSZ 8\n"
     ]
    }
   ],
   "source": [
    "\n",
    "for i in di.keys():\n",
    "    print(i, di[i])"
   ]
  }
 ],
 "metadata": {
  "kernelspec": {
   "display_name": "Python 3 (ipykernel)",
   "language": "python",
   "name": "python3"
  },
  "language_info": {
   "codemirror_mode": {
    "name": "ipython",
    "version": 3
   },
   "file_extension": ".py",
   "mimetype": "text/x-python",
   "name": "python",
   "nbconvert_exporter": "python",
   "pygments_lexer": "ipython3",
   "version": "3.7.4"
  },
  "vscode": {
   "interpreter": {
    "hash": "e8b2ec3c4db5b2383dfe3d91ffda8781febe28c46761f045d4d359bcc999436a"
   }
  }
 },
 "nbformat": 4,
 "nbformat_minor": 4
}
