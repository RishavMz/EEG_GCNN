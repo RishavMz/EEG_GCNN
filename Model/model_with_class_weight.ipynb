{
 "cells": [
  {
   "cell_type": "code",
   "execution_count": 1,
   "metadata": {
    "colab": {
     "base_uri": "https://localhost:8080/"
    },
    "id": "Ope29YVoJtM-",
    "outputId": "c6c21bb8-49b0-457f-8a24-91551e595d6b"
   },
   "outputs": [
    {
     "name": "stdout",
     "output_type": "stream",
     "text": [
      "Drive already mounted at /content/drive; to attempt to forcibly remount, call drive.mount(\"/content/drive\", force_remount=True).\n"
     ]
    }
   ],
   "source": [
    "from google.colab import drive\n",
    "drive.mount('/content/drive')"
   ]
  },
  {
   "cell_type": "code",
   "execution_count": 2,
   "metadata": {
    "colab": {
     "base_uri": "https://localhost:8080/"
    },
    "id": "5tmKD0A9-wgN",
    "outputId": "476734c9-8db2-4e45-dc2c-7dea3349182b"
   },
   "outputs": [
    {
     "name": "stdout",
     "output_type": "stream",
     "text": [
      "Found existing installation: torch-scatter 2.1.0+pt113cu116\n",
      "Uninstalling torch-scatter-2.1.0+pt113cu116:\n",
      "  Successfully uninstalled torch-scatter-2.1.0+pt113cu116\n",
      "Found existing installation: torch-sparse 0.6.15+pt113cu116\n",
      "Uninstalling torch-sparse-0.6.15+pt113cu116:\n",
      "  Successfully uninstalled torch-sparse-0.6.15+pt113cu116\n",
      "Found existing installation: torch-geometric 2.2.0\n",
      "Uninstalling torch-geometric-2.2.0:\n",
      "  Successfully uninstalled torch-geometric-2.2.0\n",
      "Found existing installation: torch-cluster 1.6.0+pt113cu116\n",
      "Uninstalling torch-cluster-1.6.0+pt113cu116:\n",
      "  Successfully uninstalled torch-cluster-1.6.0+pt113cu116\n",
      "Looking in indexes: https://pypi.org/simple, https://us-python.pkg.dev/colab-wheels/public/simple/\n",
      "Looking in links: https://data.pyg.org/whl/torch-1.13.0+cu116.html\n",
      "Collecting torch-scatter\n",
      "  Using cached https://data.pyg.org/whl/torch-1.13.0%2Bcu116/torch_scatter-2.1.0%2Bpt113cu116-cp38-cp38-linux_x86_64.whl (9.4 MB)\n",
      "Installing collected packages: torch-scatter\n",
      "Successfully installed torch-scatter-2.1.0+pt113cu116\n",
      "Looking in indexes: https://pypi.org/simple, https://us-python.pkg.dev/colab-wheels/public/simple/\n",
      "Looking in links: https://data.pyg.org/whl/torch-1.13.0+cu116.html\n",
      "Collecting torch-sparse\n",
      "  Using cached https://data.pyg.org/whl/torch-1.13.0%2Bcu116/torch_sparse-0.6.15%2Bpt113cu116-cp38-cp38-linux_x86_64.whl (4.6 MB)\n",
      "Requirement already satisfied: scipy in /usr/local/lib/python3.8/dist-packages (from torch-sparse) (1.7.3)\n",
      "Requirement already satisfied: numpy<1.23.0,>=1.16.5 in /usr/local/lib/python3.8/dist-packages (from scipy->torch-sparse) (1.21.6)\n",
      "Installing collected packages: torch-sparse\n",
      "Successfully installed torch-sparse-0.6.15+pt113cu116\n",
      "Looking in indexes: https://pypi.org/simple, https://us-python.pkg.dev/colab-wheels/public/simple/\n",
      "Looking in links: https://data.pyg.org/whl/torch-1.13.0+cu116.html\n",
      "Collecting torch-cluster\n",
      "  Using cached https://data.pyg.org/whl/torch-1.13.0%2Bcu116/torch_cluster-1.6.0%2Bpt113cu116-cp38-cp38-linux_x86_64.whl (3.2 MB)\n",
      "Requirement already satisfied: scipy in /usr/local/lib/python3.8/dist-packages (from torch-cluster) (1.7.3)\n",
      "Requirement already satisfied: numpy<1.23.0,>=1.16.5 in /usr/local/lib/python3.8/dist-packages (from scipy->torch-cluster) (1.21.6)\n",
      "Installing collected packages: torch-cluster\n",
      "Successfully installed torch-cluster-1.6.0+pt113cu116\n",
      "Looking in indexes: https://pypi.org/simple, https://us-python.pkg.dev/colab-wheels/public/simple/\n",
      "Collecting git+https://github.com/pyg-team/pytorch_geometric.git\n",
      "  Cloning https://github.com/pyg-team/pytorch_geometric.git to /tmp/pip-req-build-lfulihke\n",
      "  Running command git clone -q https://github.com/pyg-team/pytorch_geometric.git /tmp/pip-req-build-lfulihke\n",
      "Requirement already satisfied: tqdm in /usr/local/lib/python3.8/dist-packages (from torch-geometric==2.2.0) (4.64.1)\n",
      "Requirement already satisfied: numpy in /usr/local/lib/python3.8/dist-packages (from torch-geometric==2.2.0) (1.21.6)\n",
      "Requirement already satisfied: scipy in /usr/local/lib/python3.8/dist-packages (from torch-geometric==2.2.0) (1.7.3)\n",
      "Requirement already satisfied: jinja2 in /usr/local/lib/python3.8/dist-packages (from torch-geometric==2.2.0) (2.11.3)\n",
      "Requirement already satisfied: requests in /usr/local/lib/python3.8/dist-packages (from torch-geometric==2.2.0) (2.23.0)\n",
      "Requirement already satisfied: pyparsing in /usr/local/lib/python3.8/dist-packages (from torch-geometric==2.2.0) (3.0.9)\n",
      "Requirement already satisfied: torchmetrics in /usr/local/lib/python3.8/dist-packages (from torch-geometric==2.2.0) (0.11.0)\n",
      "Requirement already satisfied: scikit-learn in /usr/local/lib/python3.8/dist-packages (from torch-geometric==2.2.0) (1.0.2)\n",
      "Requirement already satisfied: psutil>=5.8.0 in /usr/local/lib/python3.8/dist-packages (from torch-geometric==2.2.0) (5.9.4)\n",
      "Requirement already satisfied: MarkupSafe>=0.23 in /usr/local/lib/python3.8/dist-packages (from jinja2->torch-geometric==2.2.0) (2.0.1)\n",
      "Requirement already satisfied: urllib3!=1.25.0,!=1.25.1,<1.26,>=1.21.1 in /usr/local/lib/python3.8/dist-packages (from requests->torch-geometric==2.2.0) (1.24.3)\n",
      "Requirement already satisfied: certifi>=2017.4.17 in /usr/local/lib/python3.8/dist-packages (from requests->torch-geometric==2.2.0) (2022.12.7)\n",
      "Requirement already satisfied: chardet<4,>=3.0.2 in /usr/local/lib/python3.8/dist-packages (from requests->torch-geometric==2.2.0) (3.0.4)\n",
      "Requirement already satisfied: idna<3,>=2.5 in /usr/local/lib/python3.8/dist-packages (from requests->torch-geometric==2.2.0) (2.10)\n",
      "Requirement already satisfied: threadpoolctl>=2.0.0 in /usr/local/lib/python3.8/dist-packages (from scikit-learn->torch-geometric==2.2.0) (3.1.0)\n",
      "Requirement already satisfied: joblib>=0.11 in /usr/local/lib/python3.8/dist-packages (from scikit-learn->torch-geometric==2.2.0) (1.2.0)\n",
      "Requirement already satisfied: torch>=1.8.1 in /usr/local/lib/python3.8/dist-packages (from torchmetrics->torch-geometric==2.2.0) (1.13.0+cu116)\n",
      "Requirement already satisfied: packaging in /usr/local/lib/python3.8/dist-packages (from torchmetrics->torch-geometric==2.2.0) (21.3)\n",
      "Requirement already satisfied: typing-extensions in /usr/local/lib/python3.8/dist-packages (from torchmetrics->torch-geometric==2.2.0) (4.4.0)\n",
      "Building wheels for collected packages: torch-geometric\n",
      "  Building wheel for torch-geometric (setup.py) ... \u001b[?25l\u001b[?25hdone\n",
      "  Created wheel for torch-geometric: filename=torch_geometric-2.2.0-py3-none-any.whl size=800443 sha256=f69f2ba82e557d8babc952e5e06a410a8aa3daf2c3d9bb4236c9447ab196d963\n",
      "  Stored in directory: /tmp/pip-ephem-wheel-cache-z3c5pj97/wheels/ba/e1/8e/28297c3201c884d3ea8c47ba71a9e71e547e556c0caa9cf5a2\n",
      "Successfully built torch-geometric\n",
      "Installing collected packages: torch-geometric\n",
      "Successfully installed torch-geometric-2.2.0\n"
     ]
    }
   ],
   "source": [
    "import torch\n",
    "\n",
    "!pip uninstall torch-scatter torch-sparse torch-geometric torch-cluster  --y\n",
    "!pip install torch-scatter -f https://data.pyg.org/whl/torch-{torch.__version__}.html\n",
    "!pip install torch-sparse -f https://data.pyg.org/whl/torch-{torch.__version__}.html\n",
    "!pip install torch-cluster -f https://data.pyg.org/whl/torch-{torch.__version__}.html\n",
    "!pip install git+https://github.com/pyg-team/pytorch_geometric.git"
   ]
  },
  {
   "cell_type": "code",
   "execution_count": 3,
   "metadata": {
    "id": "LLARoj8BI4Ty"
   },
   "outputs": [],
   "source": [
    "import torch\n",
    "import numpy as np\n",
    "import pandas as pd\n",
    "from torch_geometric.data import Data, Dataset\n",
    "from itertools import product\n",
    "class EEGGraphDataset(Dataset):\n",
    "\tdef __init__(self, X, y, indices, loader_type, sfreq, transform=None):\n",
    "\n",
    "\t\tself.epochs = X\n",
    "\t\tself.labels = y\n",
    "\t\tself.indices = indices\n",
    "\t\tself.sfreq = sfreq\n",
    "\t\tself.loader_type = loader_type\n",
    "\t\tself.transform = transform\n",
    "\n",
    "\t\tself.ch_names = ['EEG FP1','EEG FP2','EEG F3','EEG F4','EEG C3','EEG C4','EEG P3','EEG P4','EEG O1','EEG O2','EEG F7','EEG F8','EEG T3','EEG T4','EEG T5','EEG T6','EEG FZ','EEG CZ','EEG PZ']\n",
    "\t\tself.ref_names = ['EEG FP1','EEG FP2','EEG F3','EEG F4','EEG C3','EEG C4','EEG P3','EEG P4','EEG O1','EEG O2','EEG F7','EEG F8','EEG T3','EEG T4','EEG T5','EEG T6','EEG FZ','EEG CZ','EEG PZ']\n",
    "\n",
    "\t\tself.node_ids = range(len(self.ch_names))\n",
    "\t\tself.edge_index = torch.tensor([[a,b] for a, b in product(self.node_ids, self.node_ids)], dtype=torch.long).t().contiguous()\n",
    "\t\tself.distances = self.get_sensor_distances()\n",
    "\t\ta = np.array(self.distances)\n",
    "\t\tself.distances = (a - np.min(a))/(np.max(a) - np.min(a))\n",
    "\n",
    "\tdef get_sensor_distances(self):\n",
    "\t\tnum_edges = self.edge_index.shape[1]\n",
    "\t\tdistances = [ ]\n",
    "\t\tfor edge_idx in range(num_edges): \n",
    "\t\t\tsensor1_idx = self.edge_index[0, edge_idx]\n",
    "\t\t\tsensor2_idx = self.edge_index[1, edge_idx]\n",
    "\t\t\tdist = self.get_geodesic_distance(sensor1_idx, sensor2_idx)\n",
    "\t\t\tdistances.append(dist)\n",
    "\t\tassert len(distances) == num_edges\n",
    "\t\treturn distances\n",
    "\n",
    "\tdef get_geodesic_distance(self, montage_sensor1_idx, montage_sensor2_idx):\n",
    "\t\t\n",
    "\t\tref_sensor1 = self.ref_names[montage_sensor1_idx]\n",
    "\t\tref_sensor2 = self.ref_names[montage_sensor2_idx]\n",
    "\t\tdistances = pd.read_csv('./drive/MyDrive/ML_Project/distances_3d.csv')\n",
    "\t\tfor row in range(int(distances.shape[0])):\n",
    "\t\t\tif(distances.iloc[row][0]==ref_sensor1 and distances.iloc[row][1]==ref_sensor2):\n",
    "\t\t\t\treturn distances.iloc[row][2]\n",
    "\t\t\tif(distances.iloc[row][1]==ref_sensor1 and distances.iloc[row][0]==ref_sensor2):\n",
    "\t\t\t\treturn distances.iloc[row][2]\n",
    "\t\treturn 0\n",
    "\n",
    "\tdef __len__(self):\n",
    "\t\treturn len(self.indices)\n",
    "\n",
    "\tdef __getitem__(self, idx):\n",
    "\t\tif torch.is_tensor(idx):\n",
    "\t\t\tidx = idx.tolist()\n",
    "\t\tidx = self.indices[idx]\n",
    "\t\tnode_features = self.epochs[idx]\n",
    "\t\tnode_features = torch.from_numpy(node_features.reshape(19, 6))\n",
    "\t\t\n",
    "\t\tedge_weights = self.distances\n",
    "\t\tedge_weights = torch.tensor(edge_weights)\n",
    "\t\tdata = Data(x=node_features, edge_index=self.edge_index, edge_attr=edge_weights,dataset_idx=idx, y=self.labels[idx])\n",
    "\t\treturn data\n"
   ]
  },
  {
   "cell_type": "code",
   "execution_count": 4,
   "metadata": {
    "id": "171MpB15I7uT"
   },
   "outputs": [],
   "source": [
    "import torch\n",
    "import torch.nn as nn\n",
    "import torch.nn.functional as F\n",
    "from torch_geometric.nn import GCNConv, global_mean_pool, BatchNorm, global_add_pool\n",
    "\n",
    "\n",
    "class EEGGraphConvNet(nn.Module):\n",
    "    def __init__(self, reduced_sensors=None, sfreq=None):\n",
    "        super(EEGGraphConvNet, self).__init__()\n",
    "\t\t\n",
    "        self.sfreq = sfreq\n",
    "        self.input_size = 19\n",
    "        self.conv1 = GCNConv(6, 36, improved=True, cached=True, normalize=False)\n",
    "        self.conv2 = GCNConv(36, 216, improved=True, cached=True, normalize=False)\n",
    "        self.conv3_bn = BatchNorm(216, eps=1e-05, momentum=0.1, affine=True, track_running_stats=True)\n",
    "\n",
    "        self.fc_block1 = nn.Linear(216, 150)\n",
    "        self.fc_block2 = nn.Linear(150, 50)\n",
    "        self.fc_block3 = nn.Linear(50, 9)\n",
    "\n",
    "    def forward(self, x, edge_index, edge_weight, batch, return_graph_embedding=False):\n",
    "        x = F.leaky_relu(self.conv1(x, edge_index, edge_weight))\n",
    "        x = F.leaky_relu(self.conv3_bn(self.conv2(x, edge_index, edge_weight)))\n",
    "        out = global_add_pool(x, batch=batch)\n",
    "        if return_graph_embedding:\n",
    "            return out\n",
    "        out = F.leaky_relu(self.fc_block1(out), negative_slope=0.01)\n",
    "        out = F.dropout(out, p = 0.2, training=self.training)\n",
    "        out = F.leaky_relu(self.fc_block2(out), negative_slope=0.01)\n",
    "        out = self.fc_block3(out)\n",
    "        return out"
   ]
  },
  {
   "cell_type": "code",
   "execution_count": 5,
   "metadata": {
    "colab": {
     "base_uri": "https://localhost:8080/"
    },
    "id": "2YBIY7B1JAh0",
    "outputId": "d2f3f311-e8fa-4764-ff0a-2b0daa61dfc2"
   },
   "outputs": [
    {
     "name": "stdout",
     "output_type": "stream",
     "text": [
      "tensor([2.5937e+01, 1.1763e-01, 1.2968e+01, 4.0116e+00, 8.9544e+00, 5.0144e+02,\n",
      "        2.5072e+02, 8.8490e+01, 2.1490e+02])\n",
      "Unique labels to 0-8 mapping: ['ABSZ' 'BCKG' 'CPSZ' 'FNSZ' 'GNSZ' 'MYSZ' 'SPSZ' 'TCSZ' 'TNSZ']\n"
     ]
    },
    {
     "name": "stderr",
     "output_type": "stream",
     "text": [
      "/usr/local/lib/python3.8/dist-packages/torch_geometric/deprecation.py:12: UserWarning: 'data.DataLoader' is deprecated, use 'loader.DataLoader' instead\n",
      "  warnings.warn(out)\n",
      "<ipython-input-5-4a84a9889151>:153: UserWarning: To copy construct from a tensor, it is recommended to use sourceTensor.clone().detach() or sourceTensor.clone().detach().requires_grad_(True), rather than torch.tensor(sourceTensor).\n",
      "  loss = torch.nn.CrossEntropyLoss(weight=torch.tensor(class_weights),reduction='mean')\n"
     ]
    },
    {
     "name": "stdout",
     "output_type": "stream",
     "text": [
      "Epoch: 0--- | Accuracy : 0.619, Loss: 1.753 | Validation Accuracy : 0.402\n"
     ]
    },
    {
     "name": "stderr",
     "output_type": "stream",
     "text": [
      "<ipython-input-5-4a84a9889151>:153: UserWarning: To copy construct from a tensor, it is recommended to use sourceTensor.clone().detach() or sourceTensor.clone().detach().requires_grad_(True), rather than torch.tensor(sourceTensor).\n",
      "  loss = torch.nn.CrossEntropyLoss(weight=torch.tensor(class_weights),reduction='mean')\n"
     ]
    },
    {
     "name": "stdout",
     "output_type": "stream",
     "text": [
      "Epoch: 1--- | Accuracy : 0.671, Loss: 1.593 | Validation Accuracy : 0.827\n"
     ]
    },
    {
     "name": "stderr",
     "output_type": "stream",
     "text": [
      "<ipython-input-5-4a84a9889151>:153: UserWarning: To copy construct from a tensor, it is recommended to use sourceTensor.clone().detach() or sourceTensor.clone().detach().requires_grad_(True), rather than torch.tensor(sourceTensor).\n",
      "  loss = torch.nn.CrossEntropyLoss(weight=torch.tensor(class_weights),reduction='mean')\n"
     ]
    },
    {
     "name": "stdout",
     "output_type": "stream",
     "text": [
      "Epoch: 2--- | Accuracy : 0.687, Loss: 1.554 | Validation Accuracy : 0.822\n"
     ]
    },
    {
     "name": "stderr",
     "output_type": "stream",
     "text": [
      "<ipython-input-5-4a84a9889151>:153: UserWarning: To copy construct from a tensor, it is recommended to use sourceTensor.clone().detach() or sourceTensor.clone().detach().requires_grad_(True), rather than torch.tensor(sourceTensor).\n",
      "  loss = torch.nn.CrossEntropyLoss(weight=torch.tensor(class_weights),reduction='mean')\n"
     ]
    },
    {
     "name": "stdout",
     "output_type": "stream",
     "text": [
      "Epoch: 3--- | Accuracy : 0.683, Loss: 1.513 | Validation Accuracy : 0.851\n"
     ]
    },
    {
     "name": "stderr",
     "output_type": "stream",
     "text": [
      "<ipython-input-5-4a84a9889151>:153: UserWarning: To copy construct from a tensor, it is recommended to use sourceTensor.clone().detach() or sourceTensor.clone().detach().requires_grad_(True), rather than torch.tensor(sourceTensor).\n",
      "  loss = torch.nn.CrossEntropyLoss(weight=torch.tensor(class_weights),reduction='mean')\n"
     ]
    },
    {
     "name": "stdout",
     "output_type": "stream",
     "text": [
      "Epoch: 4--- | Accuracy : 0.683, Loss: 1.518 | Validation Accuracy : 0.864\n"
     ]
    },
    {
     "name": "stderr",
     "output_type": "stream",
     "text": [
      "<ipython-input-5-4a84a9889151>:153: UserWarning: To copy construct from a tensor, it is recommended to use sourceTensor.clone().detach() or sourceTensor.clone().detach().requires_grad_(True), rather than torch.tensor(sourceTensor).\n",
      "  loss = torch.nn.CrossEntropyLoss(weight=torch.tensor(class_weights),reduction='mean')\n"
     ]
    },
    {
     "name": "stdout",
     "output_type": "stream",
     "text": [
      "Epoch: 5--- | Accuracy : 0.687, Loss: 1.481 | Validation Accuracy : 0.837\n"
     ]
    },
    {
     "name": "stderr",
     "output_type": "stream",
     "text": [
      "<ipython-input-5-4a84a9889151>:153: UserWarning: To copy construct from a tensor, it is recommended to use sourceTensor.clone().detach() or sourceTensor.clone().detach().requires_grad_(True), rather than torch.tensor(sourceTensor).\n",
      "  loss = torch.nn.CrossEntropyLoss(weight=torch.tensor(class_weights),reduction='mean')\n"
     ]
    },
    {
     "name": "stdout",
     "output_type": "stream",
     "text": [
      "Epoch: 6--- | Accuracy : 0.703, Loss: 1.466 | Validation Accuracy : 0.858\n"
     ]
    },
    {
     "name": "stderr",
     "output_type": "stream",
     "text": [
      "<ipython-input-5-4a84a9889151>:153: UserWarning: To copy construct from a tensor, it is recommended to use sourceTensor.clone().detach() or sourceTensor.clone().detach().requires_grad_(True), rather than torch.tensor(sourceTensor).\n",
      "  loss = torch.nn.CrossEntropyLoss(weight=torch.tensor(class_weights),reduction='mean')\n"
     ]
    },
    {
     "name": "stdout",
     "output_type": "stream",
     "text": [
      "Epoch: 7--- | Accuracy : 0.682, Loss: 1.456 | Validation Accuracy : 0.905\n"
     ]
    },
    {
     "name": "stderr",
     "output_type": "stream",
     "text": [
      "<ipython-input-5-4a84a9889151>:153: UserWarning: To copy construct from a tensor, it is recommended to use sourceTensor.clone().detach() or sourceTensor.clone().detach().requires_grad_(True), rather than torch.tensor(sourceTensor).\n",
      "  loss = torch.nn.CrossEntropyLoss(weight=torch.tensor(class_weights),reduction='mean')\n"
     ]
    },
    {
     "name": "stdout",
     "output_type": "stream",
     "text": [
      "Epoch: 8--- | Accuracy : 0.700, Loss: 1.427 | Validation Accuracy : 0.857\n"
     ]
    },
    {
     "name": "stderr",
     "output_type": "stream",
     "text": [
      "<ipython-input-5-4a84a9889151>:153: UserWarning: To copy construct from a tensor, it is recommended to use sourceTensor.clone().detach() or sourceTensor.clone().detach().requires_grad_(True), rather than torch.tensor(sourceTensor).\n",
      "  loss = torch.nn.CrossEntropyLoss(weight=torch.tensor(class_weights),reduction='mean')\n"
     ]
    },
    {
     "name": "stdout",
     "output_type": "stream",
     "text": [
      "Epoch: 9--- | Accuracy : 0.694, Loss: 1.415 | Validation Accuracy : 0.799\n"
     ]
    },
    {
     "name": "stderr",
     "output_type": "stream",
     "text": [
      "<ipython-input-5-4a84a9889151>:153: UserWarning: To copy construct from a tensor, it is recommended to use sourceTensor.clone().detach() or sourceTensor.clone().detach().requires_grad_(True), rather than torch.tensor(sourceTensor).\n",
      "  loss = torch.nn.CrossEntropyLoss(weight=torch.tensor(class_weights),reduction='mean')\n"
     ]
    },
    {
     "name": "stdout",
     "output_type": "stream",
     "text": [
      "Epoch: 10--- | Accuracy : 0.753, Loss: 1.382 | Validation Accuracy : 0.746\n"
     ]
    },
    {
     "name": "stderr",
     "output_type": "stream",
     "text": [
      "<ipython-input-5-4a84a9889151>:153: UserWarning: To copy construct from a tensor, it is recommended to use sourceTensor.clone().detach() or sourceTensor.clone().detach().requires_grad_(True), rather than torch.tensor(sourceTensor).\n",
      "  loss = torch.nn.CrossEntropyLoss(weight=torch.tensor(class_weights),reduction='mean')\n"
     ]
    },
    {
     "name": "stdout",
     "output_type": "stream",
     "text": [
      "Epoch: 11--- | Accuracy : 0.739, Loss: 1.362 | Validation Accuracy : 0.765\n"
     ]
    },
    {
     "name": "stderr",
     "output_type": "stream",
     "text": [
      "<ipython-input-5-4a84a9889151>:153: UserWarning: To copy construct from a tensor, it is recommended to use sourceTensor.clone().detach() or sourceTensor.clone().detach().requires_grad_(True), rather than torch.tensor(sourceTensor).\n",
      "  loss = torch.nn.CrossEntropyLoss(weight=torch.tensor(class_weights),reduction='mean')\n"
     ]
    },
    {
     "name": "stdout",
     "output_type": "stream",
     "text": [
      "Epoch: 12--- | Accuracy : 0.733, Loss: 1.360 | Validation Accuracy : 0.746\n"
     ]
    },
    {
     "name": "stderr",
     "output_type": "stream",
     "text": [
      "<ipython-input-5-4a84a9889151>:153: UserWarning: To copy construct from a tensor, it is recommended to use sourceTensor.clone().detach() or sourceTensor.clone().detach().requires_grad_(True), rather than torch.tensor(sourceTensor).\n",
      "  loss = torch.nn.CrossEntropyLoss(weight=torch.tensor(class_weights),reduction='mean')\n"
     ]
    },
    {
     "name": "stdout",
     "output_type": "stream",
     "text": [
      "Epoch: 13--- | Accuracy : 0.728, Loss: 1.348 | Validation Accuracy : 0.759\n"
     ]
    },
    {
     "name": "stderr",
     "output_type": "stream",
     "text": [
      "<ipython-input-5-4a84a9889151>:153: UserWarning: To copy construct from a tensor, it is recommended to use sourceTensor.clone().detach() or sourceTensor.clone().detach().requires_grad_(True), rather than torch.tensor(sourceTensor).\n",
      "  loss = torch.nn.CrossEntropyLoss(weight=torch.tensor(class_weights),reduction='mean')\n"
     ]
    },
    {
     "name": "stdout",
     "output_type": "stream",
     "text": [
      "Epoch: 14--- | Accuracy : 0.730, Loss: 1.344 | Validation Accuracy : 0.761\n"
     ]
    },
    {
     "name": "stderr",
     "output_type": "stream",
     "text": [
      "<ipython-input-5-4a84a9889151>:153: UserWarning: To copy construct from a tensor, it is recommended to use sourceTensor.clone().detach() or sourceTensor.clone().detach().requires_grad_(True), rather than torch.tensor(sourceTensor).\n",
      "  loss = torch.nn.CrossEntropyLoss(weight=torch.tensor(class_weights),reduction='mean')\n"
     ]
    },
    {
     "name": "stdout",
     "output_type": "stream",
     "text": [
      "Epoch: 15--- | Accuracy : 0.726, Loss: 1.335 | Validation Accuracy : 0.754\n"
     ]
    },
    {
     "name": "stderr",
     "output_type": "stream",
     "text": [
      "<ipython-input-5-4a84a9889151>:153: UserWarning: To copy construct from a tensor, it is recommended to use sourceTensor.clone().detach() or sourceTensor.clone().detach().requires_grad_(True), rather than torch.tensor(sourceTensor).\n",
      "  loss = torch.nn.CrossEntropyLoss(weight=torch.tensor(class_weights),reduction='mean')\n"
     ]
    },
    {
     "name": "stdout",
     "output_type": "stream",
     "text": [
      "Epoch: 16--- | Accuracy : 0.724, Loss: 1.315 | Validation Accuracy : 0.749\n"
     ]
    },
    {
     "name": "stderr",
     "output_type": "stream",
     "text": [
      "<ipython-input-5-4a84a9889151>:153: UserWarning: To copy construct from a tensor, it is recommended to use sourceTensor.clone().detach() or sourceTensor.clone().detach().requires_grad_(True), rather than torch.tensor(sourceTensor).\n",
      "  loss = torch.nn.CrossEntropyLoss(weight=torch.tensor(class_weights),reduction='mean')\n"
     ]
    },
    {
     "name": "stdout",
     "output_type": "stream",
     "text": [
      "Epoch: 17--- | Accuracy : 0.732, Loss: 1.324 | Validation Accuracy : 0.757\n"
     ]
    },
    {
     "name": "stderr",
     "output_type": "stream",
     "text": [
      "<ipython-input-5-4a84a9889151>:153: UserWarning: To copy construct from a tensor, it is recommended to use sourceTensor.clone().detach() or sourceTensor.clone().detach().requires_grad_(True), rather than torch.tensor(sourceTensor).\n",
      "  loss = torch.nn.CrossEntropyLoss(weight=torch.tensor(class_weights),reduction='mean')\n"
     ]
    },
    {
     "name": "stdout",
     "output_type": "stream",
     "text": [
      "Epoch: 18--- | Accuracy : 0.735, Loss: 1.321 | Validation Accuracy : 0.773\n"
     ]
    },
    {
     "name": "stderr",
     "output_type": "stream",
     "text": [
      "<ipython-input-5-4a84a9889151>:153: UserWarning: To copy construct from a tensor, it is recommended to use sourceTensor.clone().detach() or sourceTensor.clone().detach().requires_grad_(True), rather than torch.tensor(sourceTensor).\n",
      "  loss = torch.nn.CrossEntropyLoss(weight=torch.tensor(class_weights),reduction='mean')\n"
     ]
    },
    {
     "name": "stdout",
     "output_type": "stream",
     "text": [
      "Epoch: 19--- | Accuracy : 0.728, Loss: 1.320 | Validation Accuracy : 0.758\n"
     ]
    },
    {
     "name": "stderr",
     "output_type": "stream",
     "text": [
      "<ipython-input-5-4a84a9889151>:153: UserWarning: To copy construct from a tensor, it is recommended to use sourceTensor.clone().detach() or sourceTensor.clone().detach().requires_grad_(True), rather than torch.tensor(sourceTensor).\n",
      "  loss = torch.nn.CrossEntropyLoss(weight=torch.tensor(class_weights),reduction='mean')\n"
     ]
    },
    {
     "name": "stdout",
     "output_type": "stream",
     "text": [
      "Epoch: 20--- | Accuracy : 0.718, Loss: 1.315 | Validation Accuracy : 0.754\n"
     ]
    },
    {
     "name": "stderr",
     "output_type": "stream",
     "text": [
      "<ipython-input-5-4a84a9889151>:153: UserWarning: To copy construct from a tensor, it is recommended to use sourceTensor.clone().detach() or sourceTensor.clone().detach().requires_grad_(True), rather than torch.tensor(sourceTensor).\n",
      "  loss = torch.nn.CrossEntropyLoss(weight=torch.tensor(class_weights),reduction='mean')\n"
     ]
    },
    {
     "name": "stdout",
     "output_type": "stream",
     "text": [
      "Epoch: 21--- | Accuracy : 0.722, Loss: 1.313 | Validation Accuracy : 0.758\n"
     ]
    },
    {
     "name": "stderr",
     "output_type": "stream",
     "text": [
      "<ipython-input-5-4a84a9889151>:153: UserWarning: To copy construct from a tensor, it is recommended to use sourceTensor.clone().detach() or sourceTensor.clone().detach().requires_grad_(True), rather than torch.tensor(sourceTensor).\n",
      "  loss = torch.nn.CrossEntropyLoss(weight=torch.tensor(class_weights),reduction='mean')\n"
     ]
    },
    {
     "name": "stdout",
     "output_type": "stream",
     "text": [
      "Epoch: 22--- | Accuracy : 0.722, Loss: 1.316 | Validation Accuracy : 0.760\n"
     ]
    },
    {
     "name": "stderr",
     "output_type": "stream",
     "text": [
      "<ipython-input-5-4a84a9889151>:153: UserWarning: To copy construct from a tensor, it is recommended to use sourceTensor.clone().detach() or sourceTensor.clone().detach().requires_grad_(True), rather than torch.tensor(sourceTensor).\n",
      "  loss = torch.nn.CrossEntropyLoss(weight=torch.tensor(class_weights),reduction='mean')\n"
     ]
    },
    {
     "name": "stdout",
     "output_type": "stream",
     "text": [
      "Epoch: 23--- | Accuracy : 0.725, Loss: 1.311 | Validation Accuracy : 0.759\n"
     ]
    },
    {
     "name": "stderr",
     "output_type": "stream",
     "text": [
      "<ipython-input-5-4a84a9889151>:153: UserWarning: To copy construct from a tensor, it is recommended to use sourceTensor.clone().detach() or sourceTensor.clone().detach().requires_grad_(True), rather than torch.tensor(sourceTensor).\n",
      "  loss = torch.nn.CrossEntropyLoss(weight=torch.tensor(class_weights),reduction='mean')\n"
     ]
    },
    {
     "name": "stdout",
     "output_type": "stream",
     "text": [
      "Epoch: 24--- | Accuracy : 0.721, Loss: 1.314 | Validation Accuracy : 0.760\n"
     ]
    },
    {
     "name": "stderr",
     "output_type": "stream",
     "text": [
      "<ipython-input-5-4a84a9889151>:153: UserWarning: To copy construct from a tensor, it is recommended to use sourceTensor.clone().detach() or sourceTensor.clone().detach().requires_grad_(True), rather than torch.tensor(sourceTensor).\n",
      "  loss = torch.nn.CrossEntropyLoss(weight=torch.tensor(class_weights),reduction='mean')\n"
     ]
    },
    {
     "name": "stdout",
     "output_type": "stream",
     "text": [
      "Epoch: 25--- | Accuracy : 0.727, Loss: 1.315 | Validation Accuracy : 0.761\n"
     ]
    },
    {
     "name": "stderr",
     "output_type": "stream",
     "text": [
      "<ipython-input-5-4a84a9889151>:153: UserWarning: To copy construct from a tensor, it is recommended to use sourceTensor.clone().detach() or sourceTensor.clone().detach().requires_grad_(True), rather than torch.tensor(sourceTensor).\n",
      "  loss = torch.nn.CrossEntropyLoss(weight=torch.tensor(class_weights),reduction='mean')\n"
     ]
    },
    {
     "name": "stdout",
     "output_type": "stream",
     "text": [
      "Epoch: 26--- | Accuracy : 0.725, Loss: 1.303 | Validation Accuracy : 0.763\n"
     ]
    },
    {
     "name": "stderr",
     "output_type": "stream",
     "text": [
      "<ipython-input-5-4a84a9889151>:153: UserWarning: To copy construct from a tensor, it is recommended to use sourceTensor.clone().detach() or sourceTensor.clone().detach().requires_grad_(True), rather than torch.tensor(sourceTensor).\n",
      "  loss = torch.nn.CrossEntropyLoss(weight=torch.tensor(class_weights),reduction='mean')\n"
     ]
    },
    {
     "name": "stdout",
     "output_type": "stream",
     "text": [
      "Epoch: 27--- | Accuracy : 0.728, Loss: 1.311 | Validation Accuracy : 0.761\n"
     ]
    },
    {
     "name": "stderr",
     "output_type": "stream",
     "text": [
      "<ipython-input-5-4a84a9889151>:153: UserWarning: To copy construct from a tensor, it is recommended to use sourceTensor.clone().detach() or sourceTensor.clone().detach().requires_grad_(True), rather than torch.tensor(sourceTensor).\n",
      "  loss = torch.nn.CrossEntropyLoss(weight=torch.tensor(class_weights),reduction='mean')\n"
     ]
    },
    {
     "name": "stdout",
     "output_type": "stream",
     "text": [
      "Epoch: 28--- | Accuracy : 0.730, Loss: 1.312 | Validation Accuracy : 0.763\n"
     ]
    },
    {
     "name": "stderr",
     "output_type": "stream",
     "text": [
      "<ipython-input-5-4a84a9889151>:153: UserWarning: To copy construct from a tensor, it is recommended to use sourceTensor.clone().detach() or sourceTensor.clone().detach().requires_grad_(True), rather than torch.tensor(sourceTensor).\n",
      "  loss = torch.nn.CrossEntropyLoss(weight=torch.tensor(class_weights),reduction='mean')\n"
     ]
    },
    {
     "name": "stdout",
     "output_type": "stream",
     "text": [
      "Epoch: 29--- | Accuracy : 0.727, Loss: 1.303 | Validation Accuracy : 0.762\n"
     ]
    },
    {
     "name": "stderr",
     "output_type": "stream",
     "text": [
      "<ipython-input-5-4a84a9889151>:153: UserWarning: To copy construct from a tensor, it is recommended to use sourceTensor.clone().detach() or sourceTensor.clone().detach().requires_grad_(True), rather than torch.tensor(sourceTensor).\n",
      "  loss = torch.nn.CrossEntropyLoss(weight=torch.tensor(class_weights),reduction='mean')\n"
     ]
    },
    {
     "name": "stdout",
     "output_type": "stream",
     "text": [
      "Epoch: 30--- | Accuracy : 0.723, Loss: 1.319 | Validation Accuracy : 0.762\n"
     ]
    },
    {
     "name": "stderr",
     "output_type": "stream",
     "text": [
      "<ipython-input-5-4a84a9889151>:153: UserWarning: To copy construct from a tensor, it is recommended to use sourceTensor.clone().detach() or sourceTensor.clone().detach().requires_grad_(True), rather than torch.tensor(sourceTensor).\n",
      "  loss = torch.nn.CrossEntropyLoss(weight=torch.tensor(class_weights),reduction='mean')\n"
     ]
    },
    {
     "name": "stdout",
     "output_type": "stream",
     "text": [
      "Epoch: 31--- | Accuracy : 0.729, Loss: 1.303 | Validation Accuracy : 0.762\n"
     ]
    },
    {
     "name": "stderr",
     "output_type": "stream",
     "text": [
      "<ipython-input-5-4a84a9889151>:153: UserWarning: To copy construct from a tensor, it is recommended to use sourceTensor.clone().detach() or sourceTensor.clone().detach().requires_grad_(True), rather than torch.tensor(sourceTensor).\n",
      "  loss = torch.nn.CrossEntropyLoss(weight=torch.tensor(class_weights),reduction='mean')\n"
     ]
    },
    {
     "name": "stdout",
     "output_type": "stream",
     "text": [
      "Epoch: 32--- | Accuracy : 0.725, Loss: 1.313 | Validation Accuracy : 0.762\n"
     ]
    },
    {
     "name": "stderr",
     "output_type": "stream",
     "text": [
      "<ipython-input-5-4a84a9889151>:153: UserWarning: To copy construct from a tensor, it is recommended to use sourceTensor.clone().detach() or sourceTensor.clone().detach().requires_grad_(True), rather than torch.tensor(sourceTensor).\n",
      "  loss = torch.nn.CrossEntropyLoss(weight=torch.tensor(class_weights),reduction='mean')\n"
     ]
    },
    {
     "name": "stdout",
     "output_type": "stream",
     "text": [
      "Epoch: 33--- | Accuracy : 0.730, Loss: 1.300 | Validation Accuracy : 0.762\n"
     ]
    },
    {
     "name": "stderr",
     "output_type": "stream",
     "text": [
      "<ipython-input-5-4a84a9889151>:153: UserWarning: To copy construct from a tensor, it is recommended to use sourceTensor.clone().detach() or sourceTensor.clone().detach().requires_grad_(True), rather than torch.tensor(sourceTensor).\n",
      "  loss = torch.nn.CrossEntropyLoss(weight=torch.tensor(class_weights),reduction='mean')\n"
     ]
    },
    {
     "name": "stdout",
     "output_type": "stream",
     "text": [
      "Epoch: 34--- | Accuracy : 0.726, Loss: 1.318 | Validation Accuracy : 0.762\n"
     ]
    },
    {
     "name": "stderr",
     "output_type": "stream",
     "text": [
      "<ipython-input-5-4a84a9889151>:153: UserWarning: To copy construct from a tensor, it is recommended to use sourceTensor.clone().detach() or sourceTensor.clone().detach().requires_grad_(True), rather than torch.tensor(sourceTensor).\n",
      "  loss = torch.nn.CrossEntropyLoss(weight=torch.tensor(class_weights),reduction='mean')\n"
     ]
    },
    {
     "name": "stdout",
     "output_type": "stream",
     "text": [
      "Epoch: 35--- | Accuracy : 0.730, Loss: 1.316 | Validation Accuracy : 0.762\n"
     ]
    },
    {
     "name": "stderr",
     "output_type": "stream",
     "text": [
      "<ipython-input-5-4a84a9889151>:153: UserWarning: To copy construct from a tensor, it is recommended to use sourceTensor.clone().detach() or sourceTensor.clone().detach().requires_grad_(True), rather than torch.tensor(sourceTensor).\n",
      "  loss = torch.nn.CrossEntropyLoss(weight=torch.tensor(class_weights),reduction='mean')\n"
     ]
    },
    {
     "name": "stdout",
     "output_type": "stream",
     "text": [
      "Epoch: 36--- | Accuracy : 0.729, Loss: 1.299 | Validation Accuracy : 0.762\n"
     ]
    },
    {
     "name": "stderr",
     "output_type": "stream",
     "text": [
      "<ipython-input-5-4a84a9889151>:153: UserWarning: To copy construct from a tensor, it is recommended to use sourceTensor.clone().detach() or sourceTensor.clone().detach().requires_grad_(True), rather than torch.tensor(sourceTensor).\n",
      "  loss = torch.nn.CrossEntropyLoss(weight=torch.tensor(class_weights),reduction='mean')\n"
     ]
    },
    {
     "name": "stdout",
     "output_type": "stream",
     "text": [
      "Epoch: 37--- | Accuracy : 0.728, Loss: 1.314 | Validation Accuracy : 0.762\n"
     ]
    },
    {
     "name": "stderr",
     "output_type": "stream",
     "text": [
      "<ipython-input-5-4a84a9889151>:153: UserWarning: To copy construct from a tensor, it is recommended to use sourceTensor.clone().detach() or sourceTensor.clone().detach().requires_grad_(True), rather than torch.tensor(sourceTensor).\n",
      "  loss = torch.nn.CrossEntropyLoss(weight=torch.tensor(class_weights),reduction='mean')\n"
     ]
    },
    {
     "name": "stdout",
     "output_type": "stream",
     "text": [
      "Epoch: 38--- | Accuracy : 0.729, Loss: 1.307 | Validation Accuracy : 0.762\n"
     ]
    },
    {
     "name": "stderr",
     "output_type": "stream",
     "text": [
      "<ipython-input-5-4a84a9889151>:153: UserWarning: To copy construct from a tensor, it is recommended to use sourceTensor.clone().detach() or sourceTensor.clone().detach().requires_grad_(True), rather than torch.tensor(sourceTensor).\n",
      "  loss = torch.nn.CrossEntropyLoss(weight=torch.tensor(class_weights),reduction='mean')\n"
     ]
    },
    {
     "name": "stdout",
     "output_type": "stream",
     "text": [
      "Epoch: 39--- | Accuracy : 0.729, Loss: 1.312 | Validation Accuracy : 0.762\n"
     ]
    },
    {
     "name": "stderr",
     "output_type": "stream",
     "text": [
      "<ipython-input-5-4a84a9889151>:153: UserWarning: To copy construct from a tensor, it is recommended to use sourceTensor.clone().detach() or sourceTensor.clone().detach().requires_grad_(True), rather than torch.tensor(sourceTensor).\n",
      "  loss = torch.nn.CrossEntropyLoss(weight=torch.tensor(class_weights),reduction='mean')\n"
     ]
    },
    {
     "name": "stdout",
     "output_type": "stream",
     "text": [
      "Epoch: 40--- | Accuracy : 0.730, Loss: 1.295 | Validation Accuracy : 0.763\n"
     ]
    },
    {
     "name": "stderr",
     "output_type": "stream",
     "text": [
      "<ipython-input-5-4a84a9889151>:153: UserWarning: To copy construct from a tensor, it is recommended to use sourceTensor.clone().detach() or sourceTensor.clone().detach().requires_grad_(True), rather than torch.tensor(sourceTensor).\n",
      "  loss = torch.nn.CrossEntropyLoss(weight=torch.tensor(class_weights),reduction='mean')\n"
     ]
    },
    {
     "name": "stdout",
     "output_type": "stream",
     "text": [
      "Epoch: 41--- | Accuracy : 0.727, Loss: 1.306 | Validation Accuracy : 0.763\n"
     ]
    },
    {
     "name": "stderr",
     "output_type": "stream",
     "text": [
      "<ipython-input-5-4a84a9889151>:153: UserWarning: To copy construct from a tensor, it is recommended to use sourceTensor.clone().detach() or sourceTensor.clone().detach().requires_grad_(True), rather than torch.tensor(sourceTensor).\n",
      "  loss = torch.nn.CrossEntropyLoss(weight=torch.tensor(class_weights),reduction='mean')\n"
     ]
    },
    {
     "name": "stdout",
     "output_type": "stream",
     "text": [
      "Epoch: 42--- | Accuracy : 0.726, Loss: 1.298 | Validation Accuracy : 0.763\n"
     ]
    },
    {
     "name": "stderr",
     "output_type": "stream",
     "text": [
      "<ipython-input-5-4a84a9889151>:153: UserWarning: To copy construct from a tensor, it is recommended to use sourceTensor.clone().detach() or sourceTensor.clone().detach().requires_grad_(True), rather than torch.tensor(sourceTensor).\n",
      "  loss = torch.nn.CrossEntropyLoss(weight=torch.tensor(class_weights),reduction='mean')\n"
     ]
    },
    {
     "name": "stdout",
     "output_type": "stream",
     "text": [
      "Epoch: 43--- | Accuracy : 0.729, Loss: 1.307 | Validation Accuracy : 0.763\n"
     ]
    },
    {
     "name": "stderr",
     "output_type": "stream",
     "text": [
      "<ipython-input-5-4a84a9889151>:153: UserWarning: To copy construct from a tensor, it is recommended to use sourceTensor.clone().detach() or sourceTensor.clone().detach().requires_grad_(True), rather than torch.tensor(sourceTensor).\n",
      "  loss = torch.nn.CrossEntropyLoss(weight=torch.tensor(class_weights),reduction='mean')\n"
     ]
    },
    {
     "name": "stdout",
     "output_type": "stream",
     "text": [
      "Epoch: 44--- | Accuracy : 0.731, Loss: 1.290 | Validation Accuracy : 0.763\n"
     ]
    },
    {
     "name": "stderr",
     "output_type": "stream",
     "text": [
      "<ipython-input-5-4a84a9889151>:153: UserWarning: To copy construct from a tensor, it is recommended to use sourceTensor.clone().detach() or sourceTensor.clone().detach().requires_grad_(True), rather than torch.tensor(sourceTensor).\n",
      "  loss = torch.nn.CrossEntropyLoss(weight=torch.tensor(class_weights),reduction='mean')\n"
     ]
    },
    {
     "name": "stdout",
     "output_type": "stream",
     "text": [
      "Epoch: 45--- | Accuracy : 0.726, Loss: 1.307 | Validation Accuracy : 0.763\n"
     ]
    },
    {
     "name": "stderr",
     "output_type": "stream",
     "text": [
      "<ipython-input-5-4a84a9889151>:153: UserWarning: To copy construct from a tensor, it is recommended to use sourceTensor.clone().detach() or sourceTensor.clone().detach().requires_grad_(True), rather than torch.tensor(sourceTensor).\n",
      "  loss = torch.nn.CrossEntropyLoss(weight=torch.tensor(class_weights),reduction='mean')\n"
     ]
    },
    {
     "name": "stdout",
     "output_type": "stream",
     "text": [
      "Epoch: 46--- | Accuracy : 0.730, Loss: 1.299 | Validation Accuracy : 0.763\n"
     ]
    },
    {
     "name": "stderr",
     "output_type": "stream",
     "text": [
      "<ipython-input-5-4a84a9889151>:153: UserWarning: To copy construct from a tensor, it is recommended to use sourceTensor.clone().detach() or sourceTensor.clone().detach().requires_grad_(True), rather than torch.tensor(sourceTensor).\n",
      "  loss = torch.nn.CrossEntropyLoss(weight=torch.tensor(class_weights),reduction='mean')\n"
     ]
    },
    {
     "name": "stdout",
     "output_type": "stream",
     "text": [
      "Epoch: 47--- | Accuracy : 0.728, Loss: 1.306 | Validation Accuracy : 0.763\n"
     ]
    },
    {
     "name": "stderr",
     "output_type": "stream",
     "text": [
      "<ipython-input-5-4a84a9889151>:153: UserWarning: To copy construct from a tensor, it is recommended to use sourceTensor.clone().detach() or sourceTensor.clone().detach().requires_grad_(True), rather than torch.tensor(sourceTensor).\n",
      "  loss = torch.nn.CrossEntropyLoss(weight=torch.tensor(class_weights),reduction='mean')\n"
     ]
    },
    {
     "name": "stdout",
     "output_type": "stream",
     "text": [
      "Epoch: 48--- | Accuracy : 0.731, Loss: 1.285 | Validation Accuracy : 0.763\n"
     ]
    },
    {
     "name": "stderr",
     "output_type": "stream",
     "text": [
      "<ipython-input-5-4a84a9889151>:153: UserWarning: To copy construct from a tensor, it is recommended to use sourceTensor.clone().detach() or sourceTensor.clone().detach().requires_grad_(True), rather than torch.tensor(sourceTensor).\n",
      "  loss = torch.nn.CrossEntropyLoss(weight=torch.tensor(class_weights),reduction='mean')\n"
     ]
    },
    {
     "name": "stdout",
     "output_type": "stream",
     "text": [
      "Epoch: 49--- | Accuracy : 0.732, Loss: 1.305 | Validation Accuracy : 0.763\n"
     ]
    },
    {
     "name": "stderr",
     "output_type": "stream",
     "text": [
      "<ipython-input-5-4a84a9889151>:153: UserWarning: To copy construct from a tensor, it is recommended to use sourceTensor.clone().detach() or sourceTensor.clone().detach().requires_grad_(True), rather than torch.tensor(sourceTensor).\n",
      "  loss = torch.nn.CrossEntropyLoss(weight=torch.tensor(class_weights),reduction='mean')\n"
     ]
    },
    {
     "name": "stdout",
     "output_type": "stream",
     "text": [
      "Epoch: 50--- | Accuracy : 0.730, Loss: 1.300 | Validation Accuracy : 0.763\n"
     ]
    },
    {
     "name": "stderr",
     "output_type": "stream",
     "text": [
      "<ipython-input-5-4a84a9889151>:153: UserWarning: To copy construct from a tensor, it is recommended to use sourceTensor.clone().detach() or sourceTensor.clone().detach().requires_grad_(True), rather than torch.tensor(sourceTensor).\n",
      "  loss = torch.nn.CrossEntropyLoss(weight=torch.tensor(class_weights),reduction='mean')\n"
     ]
    },
    {
     "name": "stdout",
     "output_type": "stream",
     "text": [
      "Epoch: 51--- | Accuracy : 0.732, Loss: 1.304 | Validation Accuracy : 0.763\n"
     ]
    },
    {
     "name": "stderr",
     "output_type": "stream",
     "text": [
      "<ipython-input-5-4a84a9889151>:153: UserWarning: To copy construct from a tensor, it is recommended to use sourceTensor.clone().detach() or sourceTensor.clone().detach().requires_grad_(True), rather than torch.tensor(sourceTensor).\n",
      "  loss = torch.nn.CrossEntropyLoss(weight=torch.tensor(class_weights),reduction='mean')\n"
     ]
    },
    {
     "name": "stdout",
     "output_type": "stream",
     "text": [
      "Epoch: 52--- | Accuracy : 0.726, Loss: 1.315 | Validation Accuracy : 0.763\n"
     ]
    },
    {
     "name": "stderr",
     "output_type": "stream",
     "text": [
      "<ipython-input-5-4a84a9889151>:153: UserWarning: To copy construct from a tensor, it is recommended to use sourceTensor.clone().detach() or sourceTensor.clone().detach().requires_grad_(True), rather than torch.tensor(sourceTensor).\n",
      "  loss = torch.nn.CrossEntropyLoss(weight=torch.tensor(class_weights),reduction='mean')\n"
     ]
    },
    {
     "name": "stdout",
     "output_type": "stream",
     "text": [
      "Epoch: 53--- | Accuracy : 0.729, Loss: 1.319 | Validation Accuracy : 0.763\n"
     ]
    },
    {
     "name": "stderr",
     "output_type": "stream",
     "text": [
      "<ipython-input-5-4a84a9889151>:153: UserWarning: To copy construct from a tensor, it is recommended to use sourceTensor.clone().detach() or sourceTensor.clone().detach().requires_grad_(True), rather than torch.tensor(sourceTensor).\n",
      "  loss = torch.nn.CrossEntropyLoss(weight=torch.tensor(class_weights),reduction='mean')\n"
     ]
    },
    {
     "name": "stdout",
     "output_type": "stream",
     "text": [
      "Epoch: 54--- | Accuracy : 0.725, Loss: 1.310 | Validation Accuracy : 0.763\n"
     ]
    },
    {
     "name": "stderr",
     "output_type": "stream",
     "text": [
      "<ipython-input-5-4a84a9889151>:153: UserWarning: To copy construct from a tensor, it is recommended to use sourceTensor.clone().detach() or sourceTensor.clone().detach().requires_grad_(True), rather than torch.tensor(sourceTensor).\n",
      "  loss = torch.nn.CrossEntropyLoss(weight=torch.tensor(class_weights),reduction='mean')\n"
     ]
    },
    {
     "name": "stdout",
     "output_type": "stream",
     "text": [
      "Epoch: 55--- | Accuracy : 0.730, Loss: 1.323 | Validation Accuracy : 0.763\n"
     ]
    },
    {
     "name": "stderr",
     "output_type": "stream",
     "text": [
      "<ipython-input-5-4a84a9889151>:153: UserWarning: To copy construct from a tensor, it is recommended to use sourceTensor.clone().detach() or sourceTensor.clone().detach().requires_grad_(True), rather than torch.tensor(sourceTensor).\n",
      "  loss = torch.nn.CrossEntropyLoss(weight=torch.tensor(class_weights),reduction='mean')\n"
     ]
    },
    {
     "name": "stdout",
     "output_type": "stream",
     "text": [
      "Epoch: 56--- | Accuracy : 0.728, Loss: 1.309 | Validation Accuracy : 0.763\n"
     ]
    },
    {
     "name": "stderr",
     "output_type": "stream",
     "text": [
      "<ipython-input-5-4a84a9889151>:153: UserWarning: To copy construct from a tensor, it is recommended to use sourceTensor.clone().detach() or sourceTensor.clone().detach().requires_grad_(True), rather than torch.tensor(sourceTensor).\n",
      "  loss = torch.nn.CrossEntropyLoss(weight=torch.tensor(class_weights),reduction='mean')\n"
     ]
    },
    {
     "name": "stdout",
     "output_type": "stream",
     "text": [
      "Epoch: 57--- | Accuracy : 0.728, Loss: 1.297 | Validation Accuracy : 0.763\n"
     ]
    },
    {
     "name": "stderr",
     "output_type": "stream",
     "text": [
      "<ipython-input-5-4a84a9889151>:153: UserWarning: To copy construct from a tensor, it is recommended to use sourceTensor.clone().detach() or sourceTensor.clone().detach().requires_grad_(True), rather than torch.tensor(sourceTensor).\n",
      "  loss = torch.nn.CrossEntropyLoss(weight=torch.tensor(class_weights),reduction='mean')\n"
     ]
    },
    {
     "name": "stdout",
     "output_type": "stream",
     "text": [
      "Epoch: 58--- | Accuracy : 0.729, Loss: 1.313 | Validation Accuracy : 0.763\n"
     ]
    },
    {
     "name": "stderr",
     "output_type": "stream",
     "text": [
      "<ipython-input-5-4a84a9889151>:153: UserWarning: To copy construct from a tensor, it is recommended to use sourceTensor.clone().detach() or sourceTensor.clone().detach().requires_grad_(True), rather than torch.tensor(sourceTensor).\n",
      "  loss = torch.nn.CrossEntropyLoss(weight=torch.tensor(class_weights),reduction='mean')\n"
     ]
    },
    {
     "name": "stdout",
     "output_type": "stream",
     "text": [
      "Epoch: 59--- | Accuracy : 0.731, Loss: 1.307 | Validation Accuracy : 0.763\n"
     ]
    },
    {
     "name": "stderr",
     "output_type": "stream",
     "text": [
      "<ipython-input-5-4a84a9889151>:153: UserWarning: To copy construct from a tensor, it is recommended to use sourceTensor.clone().detach() or sourceTensor.clone().detach().requires_grad_(True), rather than torch.tensor(sourceTensor).\n",
      "  loss = torch.nn.CrossEntropyLoss(weight=torch.tensor(class_weights),reduction='mean')\n"
     ]
    },
    {
     "name": "stdout",
     "output_type": "stream",
     "text": [
      "Epoch: 60--- | Accuracy : 0.728, Loss: 1.293 | Validation Accuracy : 0.763\n"
     ]
    },
    {
     "name": "stderr",
     "output_type": "stream",
     "text": [
      "<ipython-input-5-4a84a9889151>:153: UserWarning: To copy construct from a tensor, it is recommended to use sourceTensor.clone().detach() or sourceTensor.clone().detach().requires_grad_(True), rather than torch.tensor(sourceTensor).\n",
      "  loss = torch.nn.CrossEntropyLoss(weight=torch.tensor(class_weights),reduction='mean')\n"
     ]
    },
    {
     "name": "stdout",
     "output_type": "stream",
     "text": [
      "Epoch: 61--- | Accuracy : 0.726, Loss: 1.308 | Validation Accuracy : 0.763\n"
     ]
    },
    {
     "name": "stderr",
     "output_type": "stream",
     "text": [
      "<ipython-input-5-4a84a9889151>:153: UserWarning: To copy construct from a tensor, it is recommended to use sourceTensor.clone().detach() or sourceTensor.clone().detach().requires_grad_(True), rather than torch.tensor(sourceTensor).\n",
      "  loss = torch.nn.CrossEntropyLoss(weight=torch.tensor(class_weights),reduction='mean')\n"
     ]
    },
    {
     "name": "stdout",
     "output_type": "stream",
     "text": [
      "Epoch: 62--- | Accuracy : 0.730, Loss: 1.307 | Validation Accuracy : 0.763\n"
     ]
    },
    {
     "name": "stderr",
     "output_type": "stream",
     "text": [
      "<ipython-input-5-4a84a9889151>:153: UserWarning: To copy construct from a tensor, it is recommended to use sourceTensor.clone().detach() or sourceTensor.clone().detach().requires_grad_(True), rather than torch.tensor(sourceTensor).\n",
      "  loss = torch.nn.CrossEntropyLoss(weight=torch.tensor(class_weights),reduction='mean')\n"
     ]
    },
    {
     "name": "stdout",
     "output_type": "stream",
     "text": [
      "Epoch: 63--- | Accuracy : 0.724, Loss: 1.309 | Validation Accuracy : 0.763\n"
     ]
    },
    {
     "name": "stderr",
     "output_type": "stream",
     "text": [
      "<ipython-input-5-4a84a9889151>:153: UserWarning: To copy construct from a tensor, it is recommended to use sourceTensor.clone().detach() or sourceTensor.clone().detach().requires_grad_(True), rather than torch.tensor(sourceTensor).\n",
      "  loss = torch.nn.CrossEntropyLoss(weight=torch.tensor(class_weights),reduction='mean')\n"
     ]
    },
    {
     "name": "stdout",
     "output_type": "stream",
     "text": [
      "Epoch: 64--- | Accuracy : 0.731, Loss: 1.301 | Validation Accuracy : 0.763\n"
     ]
    },
    {
     "name": "stderr",
     "output_type": "stream",
     "text": [
      "<ipython-input-5-4a84a9889151>:153: UserWarning: To copy construct from a tensor, it is recommended to use sourceTensor.clone().detach() or sourceTensor.clone().detach().requires_grad_(True), rather than torch.tensor(sourceTensor).\n",
      "  loss = torch.nn.CrossEntropyLoss(weight=torch.tensor(class_weights),reduction='mean')\n"
     ]
    },
    {
     "name": "stdout",
     "output_type": "stream",
     "text": [
      "Epoch: 65--- | Accuracy : 0.727, Loss: 1.312 | Validation Accuracy : 0.763\n"
     ]
    },
    {
     "name": "stderr",
     "output_type": "stream",
     "text": [
      "<ipython-input-5-4a84a9889151>:153: UserWarning: To copy construct from a tensor, it is recommended to use sourceTensor.clone().detach() or sourceTensor.clone().detach().requires_grad_(True), rather than torch.tensor(sourceTensor).\n",
      "  loss = torch.nn.CrossEntropyLoss(weight=torch.tensor(class_weights),reduction='mean')\n"
     ]
    },
    {
     "name": "stdout",
     "output_type": "stream",
     "text": [
      "Epoch: 66--- | Accuracy : 0.728, Loss: 1.293 | Validation Accuracy : 0.763\n"
     ]
    },
    {
     "name": "stderr",
     "output_type": "stream",
     "text": [
      "<ipython-input-5-4a84a9889151>:153: UserWarning: To copy construct from a tensor, it is recommended to use sourceTensor.clone().detach() or sourceTensor.clone().detach().requires_grad_(True), rather than torch.tensor(sourceTensor).\n",
      "  loss = torch.nn.CrossEntropyLoss(weight=torch.tensor(class_weights),reduction='mean')\n"
     ]
    },
    {
     "name": "stdout",
     "output_type": "stream",
     "text": [
      "Epoch: 67--- | Accuracy : 0.729, Loss: 1.303 | Validation Accuracy : 0.763\n"
     ]
    },
    {
     "name": "stderr",
     "output_type": "stream",
     "text": [
      "<ipython-input-5-4a84a9889151>:153: UserWarning: To copy construct from a tensor, it is recommended to use sourceTensor.clone().detach() or sourceTensor.clone().detach().requires_grad_(True), rather than torch.tensor(sourceTensor).\n",
      "  loss = torch.nn.CrossEntropyLoss(weight=torch.tensor(class_weights),reduction='mean')\n"
     ]
    },
    {
     "name": "stdout",
     "output_type": "stream",
     "text": [
      "Epoch: 68--- | Accuracy : 0.728, Loss: 1.304 | Validation Accuracy : 0.763\n"
     ]
    },
    {
     "name": "stderr",
     "output_type": "stream",
     "text": [
      "<ipython-input-5-4a84a9889151>:153: UserWarning: To copy construct from a tensor, it is recommended to use sourceTensor.clone().detach() or sourceTensor.clone().detach().requires_grad_(True), rather than torch.tensor(sourceTensor).\n",
      "  loss = torch.nn.CrossEntropyLoss(weight=torch.tensor(class_weights),reduction='mean')\n"
     ]
    },
    {
     "name": "stdout",
     "output_type": "stream",
     "text": [
      "Epoch: 69--- | Accuracy : 0.724, Loss: 1.306 | Validation Accuracy : 0.763\n"
     ]
    },
    {
     "name": "stderr",
     "output_type": "stream",
     "text": [
      "<ipython-input-5-4a84a9889151>:153: UserWarning: To copy construct from a tensor, it is recommended to use sourceTensor.clone().detach() or sourceTensor.clone().detach().requires_grad_(True), rather than torch.tensor(sourceTensor).\n",
      "  loss = torch.nn.CrossEntropyLoss(weight=torch.tensor(class_weights),reduction='mean')\n"
     ]
    },
    {
     "name": "stdout",
     "output_type": "stream",
     "text": [
      "Epoch: 70--- | Accuracy : 0.728, Loss: 1.312 | Validation Accuracy : 0.763\n"
     ]
    },
    {
     "name": "stderr",
     "output_type": "stream",
     "text": [
      "<ipython-input-5-4a84a9889151>:153: UserWarning: To copy construct from a tensor, it is recommended to use sourceTensor.clone().detach() or sourceTensor.clone().detach().requires_grad_(True), rather than torch.tensor(sourceTensor).\n",
      "  loss = torch.nn.CrossEntropyLoss(weight=torch.tensor(class_weights),reduction='mean')\n"
     ]
    },
    {
     "name": "stdout",
     "output_type": "stream",
     "text": [
      "Epoch: 71--- | Accuracy : 0.726, Loss: 1.313 | Validation Accuracy : 0.763\n"
     ]
    },
    {
     "name": "stderr",
     "output_type": "stream",
     "text": [
      "<ipython-input-5-4a84a9889151>:153: UserWarning: To copy construct from a tensor, it is recommended to use sourceTensor.clone().detach() or sourceTensor.clone().detach().requires_grad_(True), rather than torch.tensor(sourceTensor).\n",
      "  loss = torch.nn.CrossEntropyLoss(weight=torch.tensor(class_weights),reduction='mean')\n"
     ]
    },
    {
     "name": "stdout",
     "output_type": "stream",
     "text": [
      "Epoch: 72--- | Accuracy : 0.723, Loss: 1.305 | Validation Accuracy : 0.763\n"
     ]
    },
    {
     "name": "stderr",
     "output_type": "stream",
     "text": [
      "<ipython-input-5-4a84a9889151>:153: UserWarning: To copy construct from a tensor, it is recommended to use sourceTensor.clone().detach() or sourceTensor.clone().detach().requires_grad_(True), rather than torch.tensor(sourceTensor).\n",
      "  loss = torch.nn.CrossEntropyLoss(weight=torch.tensor(class_weights),reduction='mean')\n"
     ]
    },
    {
     "name": "stdout",
     "output_type": "stream",
     "text": [
      "Epoch: 73--- | Accuracy : 0.724, Loss: 1.293 | Validation Accuracy : 0.763\n"
     ]
    },
    {
     "name": "stderr",
     "output_type": "stream",
     "text": [
      "<ipython-input-5-4a84a9889151>:153: UserWarning: To copy construct from a tensor, it is recommended to use sourceTensor.clone().detach() or sourceTensor.clone().detach().requires_grad_(True), rather than torch.tensor(sourceTensor).\n",
      "  loss = torch.nn.CrossEntropyLoss(weight=torch.tensor(class_weights),reduction='mean')\n"
     ]
    },
    {
     "name": "stdout",
     "output_type": "stream",
     "text": [
      "Epoch: 74--- | Accuracy : 0.730, Loss: 1.315 | Validation Accuracy : 0.763\n"
     ]
    },
    {
     "name": "stderr",
     "output_type": "stream",
     "text": [
      "<ipython-input-5-4a84a9889151>:153: UserWarning: To copy construct from a tensor, it is recommended to use sourceTensor.clone().detach() or sourceTensor.clone().detach().requires_grad_(True), rather than torch.tensor(sourceTensor).\n",
      "  loss = torch.nn.CrossEntropyLoss(weight=torch.tensor(class_weights),reduction='mean')\n"
     ]
    },
    {
     "name": "stdout",
     "output_type": "stream",
     "text": [
      "Epoch: 75--- | Accuracy : 0.727, Loss: 1.314 | Validation Accuracy : 0.763\n"
     ]
    },
    {
     "name": "stderr",
     "output_type": "stream",
     "text": [
      "<ipython-input-5-4a84a9889151>:153: UserWarning: To copy construct from a tensor, it is recommended to use sourceTensor.clone().detach() or sourceTensor.clone().detach().requires_grad_(True), rather than torch.tensor(sourceTensor).\n",
      "  loss = torch.nn.CrossEntropyLoss(weight=torch.tensor(class_weights),reduction='mean')\n"
     ]
    },
    {
     "name": "stdout",
     "output_type": "stream",
     "text": [
      "Epoch: 76--- | Accuracy : 0.733, Loss: 1.302 | Validation Accuracy : 0.763\n"
     ]
    },
    {
     "name": "stderr",
     "output_type": "stream",
     "text": [
      "<ipython-input-5-4a84a9889151>:153: UserWarning: To copy construct from a tensor, it is recommended to use sourceTensor.clone().detach() or sourceTensor.clone().detach().requires_grad_(True), rather than torch.tensor(sourceTensor).\n",
      "  loss = torch.nn.CrossEntropyLoss(weight=torch.tensor(class_weights),reduction='mean')\n"
     ]
    },
    {
     "name": "stdout",
     "output_type": "stream",
     "text": [
      "Epoch: 77--- | Accuracy : 0.724, Loss: 1.314 | Validation Accuracy : 0.763\n"
     ]
    },
    {
     "name": "stderr",
     "output_type": "stream",
     "text": [
      "<ipython-input-5-4a84a9889151>:153: UserWarning: To copy construct from a tensor, it is recommended to use sourceTensor.clone().detach() or sourceTensor.clone().detach().requires_grad_(True), rather than torch.tensor(sourceTensor).\n",
      "  loss = torch.nn.CrossEntropyLoss(weight=torch.tensor(class_weights),reduction='mean')\n"
     ]
    },
    {
     "name": "stdout",
     "output_type": "stream",
     "text": [
      "Epoch: 78--- | Accuracy : 0.728, Loss: 1.297 | Validation Accuracy : 0.763\n"
     ]
    },
    {
     "name": "stderr",
     "output_type": "stream",
     "text": [
      "<ipython-input-5-4a84a9889151>:153: UserWarning: To copy construct from a tensor, it is recommended to use sourceTensor.clone().detach() or sourceTensor.clone().detach().requires_grad_(True), rather than torch.tensor(sourceTensor).\n",
      "  loss = torch.nn.CrossEntropyLoss(weight=torch.tensor(class_weights),reduction='mean')\n"
     ]
    },
    {
     "name": "stdout",
     "output_type": "stream",
     "text": [
      "Epoch: 79--- | Accuracy : 0.729, Loss: 1.303 | Validation Accuracy : 0.763\n"
     ]
    },
    {
     "name": "stderr",
     "output_type": "stream",
     "text": [
      "<ipython-input-5-4a84a9889151>:153: UserWarning: To copy construct from a tensor, it is recommended to use sourceTensor.clone().detach() or sourceTensor.clone().detach().requires_grad_(True), rather than torch.tensor(sourceTensor).\n",
      "  loss = torch.nn.CrossEntropyLoss(weight=torch.tensor(class_weights),reduction='mean')\n"
     ]
    },
    {
     "name": "stdout",
     "output_type": "stream",
     "text": [
      "Epoch: 80--- | Accuracy : 0.729, Loss: 1.304 | Validation Accuracy : 0.763\n"
     ]
    },
    {
     "name": "stderr",
     "output_type": "stream",
     "text": [
      "<ipython-input-5-4a84a9889151>:153: UserWarning: To copy construct from a tensor, it is recommended to use sourceTensor.clone().detach() or sourceTensor.clone().detach().requires_grad_(True), rather than torch.tensor(sourceTensor).\n",
      "  loss = torch.nn.CrossEntropyLoss(weight=torch.tensor(class_weights),reduction='mean')\n"
     ]
    },
    {
     "name": "stdout",
     "output_type": "stream",
     "text": [
      "Epoch: 81--- | Accuracy : 0.727, Loss: 1.298 | Validation Accuracy : 0.763\n"
     ]
    },
    {
     "name": "stderr",
     "output_type": "stream",
     "text": [
      "<ipython-input-5-4a84a9889151>:153: UserWarning: To copy construct from a tensor, it is recommended to use sourceTensor.clone().detach() or sourceTensor.clone().detach().requires_grad_(True), rather than torch.tensor(sourceTensor).\n",
      "  loss = torch.nn.CrossEntropyLoss(weight=torch.tensor(class_weights),reduction='mean')\n"
     ]
    },
    {
     "name": "stdout",
     "output_type": "stream",
     "text": [
      "Epoch: 82--- | Accuracy : 0.730, Loss: 1.306 | Validation Accuracy : 0.763\n"
     ]
    },
    {
     "name": "stderr",
     "output_type": "stream",
     "text": [
      "<ipython-input-5-4a84a9889151>:153: UserWarning: To copy construct from a tensor, it is recommended to use sourceTensor.clone().detach() or sourceTensor.clone().detach().requires_grad_(True), rather than torch.tensor(sourceTensor).\n",
      "  loss = torch.nn.CrossEntropyLoss(weight=torch.tensor(class_weights),reduction='mean')\n"
     ]
    },
    {
     "name": "stdout",
     "output_type": "stream",
     "text": [
      "Epoch: 83--- | Accuracy : 0.727, Loss: 1.307 | Validation Accuracy : 0.763\n"
     ]
    },
    {
     "name": "stderr",
     "output_type": "stream",
     "text": [
      "<ipython-input-5-4a84a9889151>:153: UserWarning: To copy construct from a tensor, it is recommended to use sourceTensor.clone().detach() or sourceTensor.clone().detach().requires_grad_(True), rather than torch.tensor(sourceTensor).\n",
      "  loss = torch.nn.CrossEntropyLoss(weight=torch.tensor(class_weights),reduction='mean')\n"
     ]
    },
    {
     "name": "stdout",
     "output_type": "stream",
     "text": [
      "Epoch: 84--- | Accuracy : 0.733, Loss: 1.306 | Validation Accuracy : 0.763\n"
     ]
    },
    {
     "name": "stderr",
     "output_type": "stream",
     "text": [
      "<ipython-input-5-4a84a9889151>:153: UserWarning: To copy construct from a tensor, it is recommended to use sourceTensor.clone().detach() or sourceTensor.clone().detach().requires_grad_(True), rather than torch.tensor(sourceTensor).\n",
      "  loss = torch.nn.CrossEntropyLoss(weight=torch.tensor(class_weights),reduction='mean')\n"
     ]
    },
    {
     "name": "stdout",
     "output_type": "stream",
     "text": [
      "Epoch: 85--- | Accuracy : 0.728, Loss: 1.302 | Validation Accuracy : 0.763\n"
     ]
    },
    {
     "name": "stderr",
     "output_type": "stream",
     "text": [
      "<ipython-input-5-4a84a9889151>:153: UserWarning: To copy construct from a tensor, it is recommended to use sourceTensor.clone().detach() or sourceTensor.clone().detach().requires_grad_(True), rather than torch.tensor(sourceTensor).\n",
      "  loss = torch.nn.CrossEntropyLoss(weight=torch.tensor(class_weights),reduction='mean')\n"
     ]
    },
    {
     "name": "stdout",
     "output_type": "stream",
     "text": [
      "Epoch: 86--- | Accuracy : 0.724, Loss: 1.304 | Validation Accuracy : 0.763\n"
     ]
    },
    {
     "name": "stderr",
     "output_type": "stream",
     "text": [
      "<ipython-input-5-4a84a9889151>:153: UserWarning: To copy construct from a tensor, it is recommended to use sourceTensor.clone().detach() or sourceTensor.clone().detach().requires_grad_(True), rather than torch.tensor(sourceTensor).\n",
      "  loss = torch.nn.CrossEntropyLoss(weight=torch.tensor(class_weights),reduction='mean')\n"
     ]
    },
    {
     "name": "stdout",
     "output_type": "stream",
     "text": [
      "Epoch: 87--- | Accuracy : 0.728, Loss: 1.280 | Validation Accuracy : 0.763\n"
     ]
    },
    {
     "name": "stderr",
     "output_type": "stream",
     "text": [
      "<ipython-input-5-4a84a9889151>:153: UserWarning: To copy construct from a tensor, it is recommended to use sourceTensor.clone().detach() or sourceTensor.clone().detach().requires_grad_(True), rather than torch.tensor(sourceTensor).\n",
      "  loss = torch.nn.CrossEntropyLoss(weight=torch.tensor(class_weights),reduction='mean')\n"
     ]
    },
    {
     "name": "stdout",
     "output_type": "stream",
     "text": [
      "Epoch: 88--- | Accuracy : 0.724, Loss: 1.303 | Validation Accuracy : 0.763\n"
     ]
    },
    {
     "name": "stderr",
     "output_type": "stream",
     "text": [
      "<ipython-input-5-4a84a9889151>:153: UserWarning: To copy construct from a tensor, it is recommended to use sourceTensor.clone().detach() or sourceTensor.clone().detach().requires_grad_(True), rather than torch.tensor(sourceTensor).\n",
      "  loss = torch.nn.CrossEntropyLoss(weight=torch.tensor(class_weights),reduction='mean')\n"
     ]
    },
    {
     "name": "stdout",
     "output_type": "stream",
     "text": [
      "Epoch: 89--- | Accuracy : 0.730, Loss: 1.314 | Validation Accuracy : 0.763\n"
     ]
    },
    {
     "name": "stderr",
     "output_type": "stream",
     "text": [
      "<ipython-input-5-4a84a9889151>:153: UserWarning: To copy construct from a tensor, it is recommended to use sourceTensor.clone().detach() or sourceTensor.clone().detach().requires_grad_(True), rather than torch.tensor(sourceTensor).\n",
      "  loss = torch.nn.CrossEntropyLoss(weight=torch.tensor(class_weights),reduction='mean')\n"
     ]
    },
    {
     "name": "stdout",
     "output_type": "stream",
     "text": [
      "Epoch: 90--- | Accuracy : 0.727, Loss: 1.314 | Validation Accuracy : 0.763\n"
     ]
    },
    {
     "name": "stderr",
     "output_type": "stream",
     "text": [
      "<ipython-input-5-4a84a9889151>:153: UserWarning: To copy construct from a tensor, it is recommended to use sourceTensor.clone().detach() or sourceTensor.clone().detach().requires_grad_(True), rather than torch.tensor(sourceTensor).\n",
      "  loss = torch.nn.CrossEntropyLoss(weight=torch.tensor(class_weights),reduction='mean')\n"
     ]
    },
    {
     "name": "stdout",
     "output_type": "stream",
     "text": [
      "Epoch: 91--- | Accuracy : 0.730, Loss: 1.296 | Validation Accuracy : 0.763\n"
     ]
    },
    {
     "name": "stderr",
     "output_type": "stream",
     "text": [
      "<ipython-input-5-4a84a9889151>:153: UserWarning: To copy construct from a tensor, it is recommended to use sourceTensor.clone().detach() or sourceTensor.clone().detach().requires_grad_(True), rather than torch.tensor(sourceTensor).\n",
      "  loss = torch.nn.CrossEntropyLoss(weight=torch.tensor(class_weights),reduction='mean')\n"
     ]
    },
    {
     "name": "stdout",
     "output_type": "stream",
     "text": [
      "Epoch: 92--- | Accuracy : 0.726, Loss: 1.306 | Validation Accuracy : 0.763\n"
     ]
    },
    {
     "name": "stderr",
     "output_type": "stream",
     "text": [
      "<ipython-input-5-4a84a9889151>:153: UserWarning: To copy construct from a tensor, it is recommended to use sourceTensor.clone().detach() or sourceTensor.clone().detach().requires_grad_(True), rather than torch.tensor(sourceTensor).\n",
      "  loss = torch.nn.CrossEntropyLoss(weight=torch.tensor(class_weights),reduction='mean')\n"
     ]
    },
    {
     "name": "stdout",
     "output_type": "stream",
     "text": [
      "Epoch: 93--- | Accuracy : 0.729, Loss: 1.312 | Validation Accuracy : 0.763\n"
     ]
    },
    {
     "name": "stderr",
     "output_type": "stream",
     "text": [
      "<ipython-input-5-4a84a9889151>:153: UserWarning: To copy construct from a tensor, it is recommended to use sourceTensor.clone().detach() or sourceTensor.clone().detach().requires_grad_(True), rather than torch.tensor(sourceTensor).\n",
      "  loss = torch.nn.CrossEntropyLoss(weight=torch.tensor(class_weights),reduction='mean')\n"
     ]
    },
    {
     "name": "stdout",
     "output_type": "stream",
     "text": [
      "Epoch: 94--- | Accuracy : 0.727, Loss: 1.303 | Validation Accuracy : 0.763\n"
     ]
    },
    {
     "name": "stderr",
     "output_type": "stream",
     "text": [
      "<ipython-input-5-4a84a9889151>:153: UserWarning: To copy construct from a tensor, it is recommended to use sourceTensor.clone().detach() or sourceTensor.clone().detach().requires_grad_(True), rather than torch.tensor(sourceTensor).\n",
      "  loss = torch.nn.CrossEntropyLoss(weight=torch.tensor(class_weights),reduction='mean')\n"
     ]
    },
    {
     "name": "stdout",
     "output_type": "stream",
     "text": [
      "Epoch: 95--- | Accuracy : 0.728, Loss: 1.298 | Validation Accuracy : 0.763\n"
     ]
    },
    {
     "name": "stderr",
     "output_type": "stream",
     "text": [
      "<ipython-input-5-4a84a9889151>:153: UserWarning: To copy construct from a tensor, it is recommended to use sourceTensor.clone().detach() or sourceTensor.clone().detach().requires_grad_(True), rather than torch.tensor(sourceTensor).\n",
      "  loss = torch.nn.CrossEntropyLoss(weight=torch.tensor(class_weights),reduction='mean')\n"
     ]
    },
    {
     "name": "stdout",
     "output_type": "stream",
     "text": [
      "Epoch: 96--- | Accuracy : 0.731, Loss: 1.307 | Validation Accuracy : 0.763\n"
     ]
    },
    {
     "name": "stderr",
     "output_type": "stream",
     "text": [
      "<ipython-input-5-4a84a9889151>:153: UserWarning: To copy construct from a tensor, it is recommended to use sourceTensor.clone().detach() or sourceTensor.clone().detach().requires_grad_(True), rather than torch.tensor(sourceTensor).\n",
      "  loss = torch.nn.CrossEntropyLoss(weight=torch.tensor(class_weights),reduction='mean')\n"
     ]
    },
    {
     "name": "stdout",
     "output_type": "stream",
     "text": [
      "Epoch: 97--- | Accuracy : 0.727, Loss: 1.305 | Validation Accuracy : 0.763\n"
     ]
    },
    {
     "name": "stderr",
     "output_type": "stream",
     "text": [
      "<ipython-input-5-4a84a9889151>:153: UserWarning: To copy construct from a tensor, it is recommended to use sourceTensor.clone().detach() or sourceTensor.clone().detach().requires_grad_(True), rather than torch.tensor(sourceTensor).\n",
      "  loss = torch.nn.CrossEntropyLoss(weight=torch.tensor(class_weights),reduction='mean')\n"
     ]
    },
    {
     "name": "stdout",
     "output_type": "stream",
     "text": [
      "Epoch: 98--- | Accuracy : 0.730, Loss: 1.301 | Validation Accuracy : 0.763\n"
     ]
    },
    {
     "name": "stderr",
     "output_type": "stream",
     "text": [
      "<ipython-input-5-4a84a9889151>:153: UserWarning: To copy construct from a tensor, it is recommended to use sourceTensor.clone().detach() or sourceTensor.clone().detach().requires_grad_(True), rather than torch.tensor(sourceTensor).\n",
      "  loss = torch.nn.CrossEntropyLoss(weight=torch.tensor(class_weights),reduction='mean')\n"
     ]
    },
    {
     "name": "stdout",
     "output_type": "stream",
     "text": [
      "Epoch: 99--- | Accuracy : 0.733, Loss: 1.296 | Validation Accuracy : 0.763\n"
     ]
    },
    {
     "name": "stderr",
     "output_type": "stream",
     "text": [
      "<ipython-input-5-4a84a9889151>:153: UserWarning: To copy construct from a tensor, it is recommended to use sourceTensor.clone().detach() or sourceTensor.clone().detach().requires_grad_(True), rather than torch.tensor(sourceTensor).\n",
      "  loss = torch.nn.CrossEntropyLoss(weight=torch.tensor(class_weights),reduction='mean')\n"
     ]
    },
    {
     "name": "stdout",
     "output_type": "stream",
     "text": [
      "Epoch: 100--- | Accuracy : 0.727, Loss: 1.320 | Validation Accuracy : 0.763\n"
     ]
    },
    {
     "name": "stderr",
     "output_type": "stream",
     "text": [
      "<ipython-input-5-4a84a9889151>:153: UserWarning: To copy construct from a tensor, it is recommended to use sourceTensor.clone().detach() or sourceTensor.clone().detach().requires_grad_(True), rather than torch.tensor(sourceTensor).\n",
      "  loss = torch.nn.CrossEntropyLoss(weight=torch.tensor(class_weights),reduction='mean')\n"
     ]
    },
    {
     "name": "stdout",
     "output_type": "stream",
     "text": [
      "Epoch: 101--- | Accuracy : 0.731, Loss: 1.299 | Validation Accuracy : 0.763\n"
     ]
    },
    {
     "name": "stderr",
     "output_type": "stream",
     "text": [
      "<ipython-input-5-4a84a9889151>:153: UserWarning: To copy construct from a tensor, it is recommended to use sourceTensor.clone().detach() or sourceTensor.clone().detach().requires_grad_(True), rather than torch.tensor(sourceTensor).\n",
      "  loss = torch.nn.CrossEntropyLoss(weight=torch.tensor(class_weights),reduction='mean')\n"
     ]
    },
    {
     "name": "stdout",
     "output_type": "stream",
     "text": [
      "Epoch: 102--- | Accuracy : 0.729, Loss: 1.294 | Validation Accuracy : 0.763\n"
     ]
    },
    {
     "name": "stderr",
     "output_type": "stream",
     "text": [
      "<ipython-input-5-4a84a9889151>:153: UserWarning: To copy construct from a tensor, it is recommended to use sourceTensor.clone().detach() or sourceTensor.clone().detach().requires_grad_(True), rather than torch.tensor(sourceTensor).\n",
      "  loss = torch.nn.CrossEntropyLoss(weight=torch.tensor(class_weights),reduction='mean')\n"
     ]
    },
    {
     "name": "stdout",
     "output_type": "stream",
     "text": [
      "Epoch: 103--- | Accuracy : 0.727, Loss: 1.315 | Validation Accuracy : 0.763\n"
     ]
    },
    {
     "name": "stderr",
     "output_type": "stream",
     "text": [
      "<ipython-input-5-4a84a9889151>:153: UserWarning: To copy construct from a tensor, it is recommended to use sourceTensor.clone().detach() or sourceTensor.clone().detach().requires_grad_(True), rather than torch.tensor(sourceTensor).\n",
      "  loss = torch.nn.CrossEntropyLoss(weight=torch.tensor(class_weights),reduction='mean')\n"
     ]
    },
    {
     "name": "stdout",
     "output_type": "stream",
     "text": [
      "Epoch: 104--- | Accuracy : 0.730, Loss: 1.300 | Validation Accuracy : 0.763\n"
     ]
    },
    {
     "name": "stderr",
     "output_type": "stream",
     "text": [
      "<ipython-input-5-4a84a9889151>:153: UserWarning: To copy construct from a tensor, it is recommended to use sourceTensor.clone().detach() or sourceTensor.clone().detach().requires_grad_(True), rather than torch.tensor(sourceTensor).\n",
      "  loss = torch.nn.CrossEntropyLoss(weight=torch.tensor(class_weights),reduction='mean')\n"
     ]
    },
    {
     "name": "stdout",
     "output_type": "stream",
     "text": [
      "Epoch: 105--- | Accuracy : 0.728, Loss: 1.295 | Validation Accuracy : 0.763\n"
     ]
    },
    {
     "name": "stderr",
     "output_type": "stream",
     "text": [
      "<ipython-input-5-4a84a9889151>:153: UserWarning: To copy construct from a tensor, it is recommended to use sourceTensor.clone().detach() or sourceTensor.clone().detach().requires_grad_(True), rather than torch.tensor(sourceTensor).\n",
      "  loss = torch.nn.CrossEntropyLoss(weight=torch.tensor(class_weights),reduction='mean')\n"
     ]
    },
    {
     "name": "stdout",
     "output_type": "stream",
     "text": [
      "Epoch: 106--- | Accuracy : 0.730, Loss: 1.294 | Validation Accuracy : 0.763\n"
     ]
    },
    {
     "name": "stderr",
     "output_type": "stream",
     "text": [
      "<ipython-input-5-4a84a9889151>:153: UserWarning: To copy construct from a tensor, it is recommended to use sourceTensor.clone().detach() or sourceTensor.clone().detach().requires_grad_(True), rather than torch.tensor(sourceTensor).\n",
      "  loss = torch.nn.CrossEntropyLoss(weight=torch.tensor(class_weights),reduction='mean')\n"
     ]
    },
    {
     "name": "stdout",
     "output_type": "stream",
     "text": [
      "Epoch: 107--- | Accuracy : 0.728, Loss: 1.313 | Validation Accuracy : 0.763\n"
     ]
    },
    {
     "name": "stderr",
     "output_type": "stream",
     "text": [
      "<ipython-input-5-4a84a9889151>:153: UserWarning: To copy construct from a tensor, it is recommended to use sourceTensor.clone().detach() or sourceTensor.clone().detach().requires_grad_(True), rather than torch.tensor(sourceTensor).\n",
      "  loss = torch.nn.CrossEntropyLoss(weight=torch.tensor(class_weights),reduction='mean')\n"
     ]
    },
    {
     "name": "stdout",
     "output_type": "stream",
     "text": [
      "Epoch: 108--- | Accuracy : 0.730, Loss: 1.314 | Validation Accuracy : 0.763\n"
     ]
    },
    {
     "name": "stderr",
     "output_type": "stream",
     "text": [
      "<ipython-input-5-4a84a9889151>:153: UserWarning: To copy construct from a tensor, it is recommended to use sourceTensor.clone().detach() or sourceTensor.clone().detach().requires_grad_(True), rather than torch.tensor(sourceTensor).\n",
      "  loss = torch.nn.CrossEntropyLoss(weight=torch.tensor(class_weights),reduction='mean')\n"
     ]
    },
    {
     "name": "stdout",
     "output_type": "stream",
     "text": [
      "Epoch: 109--- | Accuracy : 0.730, Loss: 1.299 | Validation Accuracy : 0.763\n"
     ]
    },
    {
     "name": "stderr",
     "output_type": "stream",
     "text": [
      "<ipython-input-5-4a84a9889151>:153: UserWarning: To copy construct from a tensor, it is recommended to use sourceTensor.clone().detach() or sourceTensor.clone().detach().requires_grad_(True), rather than torch.tensor(sourceTensor).\n",
      "  loss = torch.nn.CrossEntropyLoss(weight=torch.tensor(class_weights),reduction='mean')\n"
     ]
    },
    {
     "name": "stdout",
     "output_type": "stream",
     "text": [
      "Epoch: 110--- | Accuracy : 0.726, Loss: 1.296 | Validation Accuracy : 0.763\n"
     ]
    },
    {
     "name": "stderr",
     "output_type": "stream",
     "text": [
      "<ipython-input-5-4a84a9889151>:153: UserWarning: To copy construct from a tensor, it is recommended to use sourceTensor.clone().detach() or sourceTensor.clone().detach().requires_grad_(True), rather than torch.tensor(sourceTensor).\n",
      "  loss = torch.nn.CrossEntropyLoss(weight=torch.tensor(class_weights),reduction='mean')\n"
     ]
    },
    {
     "name": "stdout",
     "output_type": "stream",
     "text": [
      "Epoch: 111--- | Accuracy : 0.728, Loss: 1.307 | Validation Accuracy : 0.763\n"
     ]
    },
    {
     "name": "stderr",
     "output_type": "stream",
     "text": [
      "<ipython-input-5-4a84a9889151>:153: UserWarning: To copy construct from a tensor, it is recommended to use sourceTensor.clone().detach() or sourceTensor.clone().detach().requires_grad_(True), rather than torch.tensor(sourceTensor).\n",
      "  loss = torch.nn.CrossEntropyLoss(weight=torch.tensor(class_weights),reduction='mean')\n"
     ]
    },
    {
     "name": "stdout",
     "output_type": "stream",
     "text": [
      "Epoch: 112--- | Accuracy : 0.727, Loss: 1.312 | Validation Accuracy : 0.763\n"
     ]
    },
    {
     "name": "stderr",
     "output_type": "stream",
     "text": [
      "<ipython-input-5-4a84a9889151>:153: UserWarning: To copy construct from a tensor, it is recommended to use sourceTensor.clone().detach() or sourceTensor.clone().detach().requires_grad_(True), rather than torch.tensor(sourceTensor).\n",
      "  loss = torch.nn.CrossEntropyLoss(weight=torch.tensor(class_weights),reduction='mean')\n"
     ]
    },
    {
     "name": "stdout",
     "output_type": "stream",
     "text": [
      "Epoch: 113--- | Accuracy : 0.729, Loss: 1.306 | Validation Accuracy : 0.763\n"
     ]
    },
    {
     "name": "stderr",
     "output_type": "stream",
     "text": [
      "<ipython-input-5-4a84a9889151>:153: UserWarning: To copy construct from a tensor, it is recommended to use sourceTensor.clone().detach() or sourceTensor.clone().detach().requires_grad_(True), rather than torch.tensor(sourceTensor).\n",
      "  loss = torch.nn.CrossEntropyLoss(weight=torch.tensor(class_weights),reduction='mean')\n"
     ]
    },
    {
     "name": "stdout",
     "output_type": "stream",
     "text": [
      "Epoch: 114--- | Accuracy : 0.730, Loss: 1.301 | Validation Accuracy : 0.763\n"
     ]
    },
    {
     "name": "stderr",
     "output_type": "stream",
     "text": [
      "<ipython-input-5-4a84a9889151>:153: UserWarning: To copy construct from a tensor, it is recommended to use sourceTensor.clone().detach() or sourceTensor.clone().detach().requires_grad_(True), rather than torch.tensor(sourceTensor).\n",
      "  loss = torch.nn.CrossEntropyLoss(weight=torch.tensor(class_weights),reduction='mean')\n"
     ]
    },
    {
     "name": "stdout",
     "output_type": "stream",
     "text": [
      "Epoch: 115--- | Accuracy : 0.730, Loss: 1.296 | Validation Accuracy : 0.763\n"
     ]
    },
    {
     "name": "stderr",
     "output_type": "stream",
     "text": [
      "<ipython-input-5-4a84a9889151>:153: UserWarning: To copy construct from a tensor, it is recommended to use sourceTensor.clone().detach() or sourceTensor.clone().detach().requires_grad_(True), rather than torch.tensor(sourceTensor).\n",
      "  loss = torch.nn.CrossEntropyLoss(weight=torch.tensor(class_weights),reduction='mean')\n"
     ]
    },
    {
     "name": "stdout",
     "output_type": "stream",
     "text": [
      "Epoch: 116--- | Accuracy : 0.729, Loss: 1.314 | Validation Accuracy : 0.763\n"
     ]
    },
    {
     "name": "stderr",
     "output_type": "stream",
     "text": [
      "<ipython-input-5-4a84a9889151>:153: UserWarning: To copy construct from a tensor, it is recommended to use sourceTensor.clone().detach() or sourceTensor.clone().detach().requires_grad_(True), rather than torch.tensor(sourceTensor).\n",
      "  loss = torch.nn.CrossEntropyLoss(weight=torch.tensor(class_weights),reduction='mean')\n"
     ]
    },
    {
     "name": "stdout",
     "output_type": "stream",
     "text": [
      "Epoch: 117--- | Accuracy : 0.726, Loss: 1.305 | Validation Accuracy : 0.763\n"
     ]
    },
    {
     "name": "stderr",
     "output_type": "stream",
     "text": [
      "<ipython-input-5-4a84a9889151>:153: UserWarning: To copy construct from a tensor, it is recommended to use sourceTensor.clone().detach() or sourceTensor.clone().detach().requires_grad_(True), rather than torch.tensor(sourceTensor).\n",
      "  loss = torch.nn.CrossEntropyLoss(weight=torch.tensor(class_weights),reduction='mean')\n"
     ]
    },
    {
     "name": "stdout",
     "output_type": "stream",
     "text": [
      "Epoch: 118--- | Accuracy : 0.728, Loss: 1.314 | Validation Accuracy : 0.763\n"
     ]
    },
    {
     "name": "stderr",
     "output_type": "stream",
     "text": [
      "<ipython-input-5-4a84a9889151>:153: UserWarning: To copy construct from a tensor, it is recommended to use sourceTensor.clone().detach() or sourceTensor.clone().detach().requires_grad_(True), rather than torch.tensor(sourceTensor).\n",
      "  loss = torch.nn.CrossEntropyLoss(weight=torch.tensor(class_weights),reduction='mean')\n"
     ]
    },
    {
     "name": "stdout",
     "output_type": "stream",
     "text": [
      "Epoch: 119--- | Accuracy : 0.733, Loss: 1.299 | Validation Accuracy : 0.763\n"
     ]
    },
    {
     "name": "stderr",
     "output_type": "stream",
     "text": [
      "<ipython-input-5-4a84a9889151>:153: UserWarning: To copy construct from a tensor, it is recommended to use sourceTensor.clone().detach() or sourceTensor.clone().detach().requires_grad_(True), rather than torch.tensor(sourceTensor).\n",
      "  loss = torch.nn.CrossEntropyLoss(weight=torch.tensor(class_weights),reduction='mean')\n"
     ]
    },
    {
     "name": "stdout",
     "output_type": "stream",
     "text": [
      "Epoch: 120--- | Accuracy : 0.728, Loss: 1.308 | Validation Accuracy : 0.763\n"
     ]
    },
    {
     "name": "stderr",
     "output_type": "stream",
     "text": [
      "<ipython-input-5-4a84a9889151>:153: UserWarning: To copy construct from a tensor, it is recommended to use sourceTensor.clone().detach() or sourceTensor.clone().detach().requires_grad_(True), rather than torch.tensor(sourceTensor).\n",
      "  loss = torch.nn.CrossEntropyLoss(weight=torch.tensor(class_weights),reduction='mean')\n"
     ]
    },
    {
     "name": "stdout",
     "output_type": "stream",
     "text": [
      "Epoch: 121--- | Accuracy : 0.728, Loss: 1.301 | Validation Accuracy : 0.763\n"
     ]
    },
    {
     "name": "stderr",
     "output_type": "stream",
     "text": [
      "<ipython-input-5-4a84a9889151>:153: UserWarning: To copy construct from a tensor, it is recommended to use sourceTensor.clone().detach() or sourceTensor.clone().detach().requires_grad_(True), rather than torch.tensor(sourceTensor).\n",
      "  loss = torch.nn.CrossEntropyLoss(weight=torch.tensor(class_weights),reduction='mean')\n"
     ]
    },
    {
     "name": "stdout",
     "output_type": "stream",
     "text": [
      "Epoch: 122--- | Accuracy : 0.727, Loss: 1.301 | Validation Accuracy : 0.763\n"
     ]
    },
    {
     "name": "stderr",
     "output_type": "stream",
     "text": [
      "<ipython-input-5-4a84a9889151>:153: UserWarning: To copy construct from a tensor, it is recommended to use sourceTensor.clone().detach() or sourceTensor.clone().detach().requires_grad_(True), rather than torch.tensor(sourceTensor).\n",
      "  loss = torch.nn.CrossEntropyLoss(weight=torch.tensor(class_weights),reduction='mean')\n"
     ]
    },
    {
     "name": "stdout",
     "output_type": "stream",
     "text": [
      "Epoch: 123--- | Accuracy : 0.726, Loss: 1.304 | Validation Accuracy : 0.763\n"
     ]
    },
    {
     "name": "stderr",
     "output_type": "stream",
     "text": [
      "<ipython-input-5-4a84a9889151>:153: UserWarning: To copy construct from a tensor, it is recommended to use sourceTensor.clone().detach() or sourceTensor.clone().detach().requires_grad_(True), rather than torch.tensor(sourceTensor).\n",
      "  loss = torch.nn.CrossEntropyLoss(weight=torch.tensor(class_weights),reduction='mean')\n"
     ]
    },
    {
     "name": "stdout",
     "output_type": "stream",
     "text": [
      "Epoch: 124--- | Accuracy : 0.726, Loss: 1.301 | Validation Accuracy : 0.763\n"
     ]
    },
    {
     "name": "stderr",
     "output_type": "stream",
     "text": [
      "<ipython-input-5-4a84a9889151>:153: UserWarning: To copy construct from a tensor, it is recommended to use sourceTensor.clone().detach() or sourceTensor.clone().detach().requires_grad_(True), rather than torch.tensor(sourceTensor).\n",
      "  loss = torch.nn.CrossEntropyLoss(weight=torch.tensor(class_weights),reduction='mean')\n"
     ]
    },
    {
     "name": "stdout",
     "output_type": "stream",
     "text": [
      "Epoch: 125--- | Accuracy : 0.731, Loss: 1.304 | Validation Accuracy : 0.763\n"
     ]
    },
    {
     "name": "stderr",
     "output_type": "stream",
     "text": [
      "<ipython-input-5-4a84a9889151>:153: UserWarning: To copy construct from a tensor, it is recommended to use sourceTensor.clone().detach() or sourceTensor.clone().detach().requires_grad_(True), rather than torch.tensor(sourceTensor).\n",
      "  loss = torch.nn.CrossEntropyLoss(weight=torch.tensor(class_weights),reduction='mean')\n"
     ]
    },
    {
     "name": "stdout",
     "output_type": "stream",
     "text": [
      "Epoch: 126--- | Accuracy : 0.728, Loss: 1.298 | Validation Accuracy : 0.763\n"
     ]
    },
    {
     "name": "stderr",
     "output_type": "stream",
     "text": [
      "<ipython-input-5-4a84a9889151>:153: UserWarning: To copy construct from a tensor, it is recommended to use sourceTensor.clone().detach() or sourceTensor.clone().detach().requires_grad_(True), rather than torch.tensor(sourceTensor).\n",
      "  loss = torch.nn.CrossEntropyLoss(weight=torch.tensor(class_weights),reduction='mean')\n"
     ]
    },
    {
     "name": "stdout",
     "output_type": "stream",
     "text": [
      "Epoch: 127--- | Accuracy : 0.729, Loss: 1.298 | Validation Accuracy : 0.763\n"
     ]
    },
    {
     "name": "stderr",
     "output_type": "stream",
     "text": [
      "<ipython-input-5-4a84a9889151>:153: UserWarning: To copy construct from a tensor, it is recommended to use sourceTensor.clone().detach() or sourceTensor.clone().detach().requires_grad_(True), rather than torch.tensor(sourceTensor).\n",
      "  loss = torch.nn.CrossEntropyLoss(weight=torch.tensor(class_weights),reduction='mean')\n"
     ]
    },
    {
     "name": "stdout",
     "output_type": "stream",
     "text": [
      "Epoch: 128--- | Accuracy : 0.726, Loss: 1.297 | Validation Accuracy : 0.763\n"
     ]
    },
    {
     "name": "stderr",
     "output_type": "stream",
     "text": [
      "<ipython-input-5-4a84a9889151>:153: UserWarning: To copy construct from a tensor, it is recommended to use sourceTensor.clone().detach() or sourceTensor.clone().detach().requires_grad_(True), rather than torch.tensor(sourceTensor).\n",
      "  loss = torch.nn.CrossEntropyLoss(weight=torch.tensor(class_weights),reduction='mean')\n"
     ]
    },
    {
     "name": "stdout",
     "output_type": "stream",
     "text": [
      "Epoch: 129--- | Accuracy : 0.730, Loss: 1.297 | Validation Accuracy : 0.763\n"
     ]
    },
    {
     "name": "stderr",
     "output_type": "stream",
     "text": [
      "<ipython-input-5-4a84a9889151>:153: UserWarning: To copy construct from a tensor, it is recommended to use sourceTensor.clone().detach() or sourceTensor.clone().detach().requires_grad_(True), rather than torch.tensor(sourceTensor).\n",
      "  loss = torch.nn.CrossEntropyLoss(weight=torch.tensor(class_weights),reduction='mean')\n"
     ]
    },
    {
     "name": "stdout",
     "output_type": "stream",
     "text": [
      "Epoch: 130--- | Accuracy : 0.729, Loss: 1.312 | Validation Accuracy : 0.763\n"
     ]
    },
    {
     "name": "stderr",
     "output_type": "stream",
     "text": [
      "<ipython-input-5-4a84a9889151>:153: UserWarning: To copy construct from a tensor, it is recommended to use sourceTensor.clone().detach() or sourceTensor.clone().detach().requires_grad_(True), rather than torch.tensor(sourceTensor).\n",
      "  loss = torch.nn.CrossEntropyLoss(weight=torch.tensor(class_weights),reduction='mean')\n"
     ]
    },
    {
     "name": "stdout",
     "output_type": "stream",
     "text": [
      "Epoch: 131--- | Accuracy : 0.726, Loss: 1.314 | Validation Accuracy : 0.763\n"
     ]
    },
    {
     "name": "stderr",
     "output_type": "stream",
     "text": [
      "<ipython-input-5-4a84a9889151>:153: UserWarning: To copy construct from a tensor, it is recommended to use sourceTensor.clone().detach() or sourceTensor.clone().detach().requires_grad_(True), rather than torch.tensor(sourceTensor).\n",
      "  loss = torch.nn.CrossEntropyLoss(weight=torch.tensor(class_weights),reduction='mean')\n"
     ]
    },
    {
     "name": "stdout",
     "output_type": "stream",
     "text": [
      "Epoch: 132--- | Accuracy : 0.729, Loss: 1.305 | Validation Accuracy : 0.763\n"
     ]
    },
    {
     "name": "stderr",
     "output_type": "stream",
     "text": [
      "<ipython-input-5-4a84a9889151>:153: UserWarning: To copy construct from a tensor, it is recommended to use sourceTensor.clone().detach() or sourceTensor.clone().detach().requires_grad_(True), rather than torch.tensor(sourceTensor).\n",
      "  loss = torch.nn.CrossEntropyLoss(weight=torch.tensor(class_weights),reduction='mean')\n"
     ]
    },
    {
     "name": "stdout",
     "output_type": "stream",
     "text": [
      "Epoch: 133--- | Accuracy : 0.728, Loss: 1.295 | Validation Accuracy : 0.763\n"
     ]
    },
    {
     "name": "stderr",
     "output_type": "stream",
     "text": [
      "<ipython-input-5-4a84a9889151>:153: UserWarning: To copy construct from a tensor, it is recommended to use sourceTensor.clone().detach() or sourceTensor.clone().detach().requires_grad_(True), rather than torch.tensor(sourceTensor).\n",
      "  loss = torch.nn.CrossEntropyLoss(weight=torch.tensor(class_weights),reduction='mean')\n"
     ]
    },
    {
     "name": "stdout",
     "output_type": "stream",
     "text": [
      "Epoch: 134--- | Accuracy : 0.724, Loss: 1.302 | Validation Accuracy : 0.763\n"
     ]
    },
    {
     "name": "stderr",
     "output_type": "stream",
     "text": [
      "<ipython-input-5-4a84a9889151>:153: UserWarning: To copy construct from a tensor, it is recommended to use sourceTensor.clone().detach() or sourceTensor.clone().detach().requires_grad_(True), rather than torch.tensor(sourceTensor).\n",
      "  loss = torch.nn.CrossEntropyLoss(weight=torch.tensor(class_weights),reduction='mean')\n"
     ]
    },
    {
     "name": "stdout",
     "output_type": "stream",
     "text": [
      "Epoch: 135--- | Accuracy : 0.727, Loss: 1.306 | Validation Accuracy : 0.763\n"
     ]
    },
    {
     "name": "stderr",
     "output_type": "stream",
     "text": [
      "<ipython-input-5-4a84a9889151>:153: UserWarning: To copy construct from a tensor, it is recommended to use sourceTensor.clone().detach() or sourceTensor.clone().detach().requires_grad_(True), rather than torch.tensor(sourceTensor).\n",
      "  loss = torch.nn.CrossEntropyLoss(weight=torch.tensor(class_weights),reduction='mean')\n"
     ]
    },
    {
     "name": "stdout",
     "output_type": "stream",
     "text": [
      "Epoch: 136--- | Accuracy : 0.730, Loss: 1.302 | Validation Accuracy : 0.763\n"
     ]
    },
    {
     "name": "stderr",
     "output_type": "stream",
     "text": [
      "<ipython-input-5-4a84a9889151>:153: UserWarning: To copy construct from a tensor, it is recommended to use sourceTensor.clone().detach() or sourceTensor.clone().detach().requires_grad_(True), rather than torch.tensor(sourceTensor).\n",
      "  loss = torch.nn.CrossEntropyLoss(weight=torch.tensor(class_weights),reduction='mean')\n"
     ]
    },
    {
     "name": "stdout",
     "output_type": "stream",
     "text": [
      "Epoch: 137--- | Accuracy : 0.729, Loss: 1.315 | Validation Accuracy : 0.763\n"
     ]
    },
    {
     "name": "stderr",
     "output_type": "stream",
     "text": [
      "<ipython-input-5-4a84a9889151>:153: UserWarning: To copy construct from a tensor, it is recommended to use sourceTensor.clone().detach() or sourceTensor.clone().detach().requires_grad_(True), rather than torch.tensor(sourceTensor).\n",
      "  loss = torch.nn.CrossEntropyLoss(weight=torch.tensor(class_weights),reduction='mean')\n"
     ]
    },
    {
     "name": "stdout",
     "output_type": "stream",
     "text": [
      "Epoch: 138--- | Accuracy : 0.730, Loss: 1.305 | Validation Accuracy : 0.763\n"
     ]
    },
    {
     "name": "stderr",
     "output_type": "stream",
     "text": [
      "<ipython-input-5-4a84a9889151>:153: UserWarning: To copy construct from a tensor, it is recommended to use sourceTensor.clone().detach() or sourceTensor.clone().detach().requires_grad_(True), rather than torch.tensor(sourceTensor).\n",
      "  loss = torch.nn.CrossEntropyLoss(weight=torch.tensor(class_weights),reduction='mean')\n"
     ]
    },
    {
     "name": "stdout",
     "output_type": "stream",
     "text": [
      "Epoch: 139--- | Accuracy : 0.728, Loss: 1.295 | Validation Accuracy : 0.763\n"
     ]
    },
    {
     "name": "stderr",
     "output_type": "stream",
     "text": [
      "<ipython-input-5-4a84a9889151>:153: UserWarning: To copy construct from a tensor, it is recommended to use sourceTensor.clone().detach() or sourceTensor.clone().detach().requires_grad_(True), rather than torch.tensor(sourceTensor).\n",
      "  loss = torch.nn.CrossEntropyLoss(weight=torch.tensor(class_weights),reduction='mean')\n"
     ]
    },
    {
     "name": "stdout",
     "output_type": "stream",
     "text": [
      "Epoch: 140--- | Accuracy : 0.730, Loss: 1.305 | Validation Accuracy : 0.763\n"
     ]
    },
    {
     "name": "stderr",
     "output_type": "stream",
     "text": [
      "<ipython-input-5-4a84a9889151>:153: UserWarning: To copy construct from a tensor, it is recommended to use sourceTensor.clone().detach() or sourceTensor.clone().detach().requires_grad_(True), rather than torch.tensor(sourceTensor).\n",
      "  loss = torch.nn.CrossEntropyLoss(weight=torch.tensor(class_weights),reduction='mean')\n"
     ]
    },
    {
     "name": "stdout",
     "output_type": "stream",
     "text": [
      "Epoch: 141--- | Accuracy : 0.727, Loss: 1.301 | Validation Accuracy : 0.763\n"
     ]
    },
    {
     "name": "stderr",
     "output_type": "stream",
     "text": [
      "<ipython-input-5-4a84a9889151>:153: UserWarning: To copy construct from a tensor, it is recommended to use sourceTensor.clone().detach() or sourceTensor.clone().detach().requires_grad_(True), rather than torch.tensor(sourceTensor).\n",
      "  loss = torch.nn.CrossEntropyLoss(weight=torch.tensor(class_weights),reduction='mean')\n"
     ]
    },
    {
     "name": "stdout",
     "output_type": "stream",
     "text": [
      "Epoch: 142--- | Accuracy : 0.729, Loss: 1.308 | Validation Accuracy : 0.763\n"
     ]
    },
    {
     "name": "stderr",
     "output_type": "stream",
     "text": [
      "<ipython-input-5-4a84a9889151>:153: UserWarning: To copy construct from a tensor, it is recommended to use sourceTensor.clone().detach() or sourceTensor.clone().detach().requires_grad_(True), rather than torch.tensor(sourceTensor).\n",
      "  loss = torch.nn.CrossEntropyLoss(weight=torch.tensor(class_weights),reduction='mean')\n"
     ]
    },
    {
     "name": "stdout",
     "output_type": "stream",
     "text": [
      "Epoch: 143--- | Accuracy : 0.729, Loss: 1.312 | Validation Accuracy : 0.763\n"
     ]
    },
    {
     "name": "stderr",
     "output_type": "stream",
     "text": [
      "<ipython-input-5-4a84a9889151>:153: UserWarning: To copy construct from a tensor, it is recommended to use sourceTensor.clone().detach() or sourceTensor.clone().detach().requires_grad_(True), rather than torch.tensor(sourceTensor).\n",
      "  loss = torch.nn.CrossEntropyLoss(weight=torch.tensor(class_weights),reduction='mean')\n"
     ]
    },
    {
     "name": "stdout",
     "output_type": "stream",
     "text": [
      "Epoch: 144--- | Accuracy : 0.730, Loss: 1.314 | Validation Accuracy : 0.763\n"
     ]
    },
    {
     "name": "stderr",
     "output_type": "stream",
     "text": [
      "<ipython-input-5-4a84a9889151>:153: UserWarning: To copy construct from a tensor, it is recommended to use sourceTensor.clone().detach() or sourceTensor.clone().detach().requires_grad_(True), rather than torch.tensor(sourceTensor).\n",
      "  loss = torch.nn.CrossEntropyLoss(weight=torch.tensor(class_weights),reduction='mean')\n"
     ]
    },
    {
     "name": "stdout",
     "output_type": "stream",
     "text": [
      "Epoch: 145--- | Accuracy : 0.727, Loss: 1.318 | Validation Accuracy : 0.763\n"
     ]
    },
    {
     "name": "stderr",
     "output_type": "stream",
     "text": [
      "<ipython-input-5-4a84a9889151>:153: UserWarning: To copy construct from a tensor, it is recommended to use sourceTensor.clone().detach() or sourceTensor.clone().detach().requires_grad_(True), rather than torch.tensor(sourceTensor).\n",
      "  loss = torch.nn.CrossEntropyLoss(weight=torch.tensor(class_weights),reduction='mean')\n"
     ]
    },
    {
     "name": "stdout",
     "output_type": "stream",
     "text": [
      "Epoch: 146--- | Accuracy : 0.729, Loss: 1.308 | Validation Accuracy : 0.763\n"
     ]
    },
    {
     "name": "stderr",
     "output_type": "stream",
     "text": [
      "<ipython-input-5-4a84a9889151>:153: UserWarning: To copy construct from a tensor, it is recommended to use sourceTensor.clone().detach() or sourceTensor.clone().detach().requires_grad_(True), rather than torch.tensor(sourceTensor).\n",
      "  loss = torch.nn.CrossEntropyLoss(weight=torch.tensor(class_weights),reduction='mean')\n"
     ]
    },
    {
     "name": "stdout",
     "output_type": "stream",
     "text": [
      "Epoch: 147--- | Accuracy : 0.726, Loss: 1.316 | Validation Accuracy : 0.763\n"
     ]
    },
    {
     "name": "stderr",
     "output_type": "stream",
     "text": [
      "<ipython-input-5-4a84a9889151>:153: UserWarning: To copy construct from a tensor, it is recommended to use sourceTensor.clone().detach() or sourceTensor.clone().detach().requires_grad_(True), rather than torch.tensor(sourceTensor).\n",
      "  loss = torch.nn.CrossEntropyLoss(weight=torch.tensor(class_weights),reduction='mean')\n"
     ]
    },
    {
     "name": "stdout",
     "output_type": "stream",
     "text": [
      "Epoch: 148--- | Accuracy : 0.729, Loss: 1.307 | Validation Accuracy : 0.763\n"
     ]
    },
    {
     "name": "stderr",
     "output_type": "stream",
     "text": [
      "<ipython-input-5-4a84a9889151>:153: UserWarning: To copy construct from a tensor, it is recommended to use sourceTensor.clone().detach() or sourceTensor.clone().detach().requires_grad_(True), rather than torch.tensor(sourceTensor).\n",
      "  loss = torch.nn.CrossEntropyLoss(weight=torch.tensor(class_weights),reduction='mean')\n"
     ]
    },
    {
     "name": "stdout",
     "output_type": "stream",
     "text": [
      "Epoch: 149--- | Accuracy : 0.728, Loss: 1.297 | Validation Accuracy : 0.763\n"
     ]
    }
   ],
   "source": [
    "from sklearn.model_selection import train_test_split\n",
    "\n",
    "from joblib import load\n",
    "import statistics as stats\n",
    "from sklearn import preprocessing\n",
    "\n",
    "import torch.backends.cudnn as cudnn\n",
    "cudnn.enabled = True\n",
    "cudnn.benchmark = False\n",
    "cudnn.deterministic = True\n",
    "\n",
    "from torch_geometric.data import DataLoader\n",
    "from torch.utils.data import WeightedRandomSampler\n",
    "from sklearn.metrics import make_scorer\n",
    "from sklearn.metrics import balanced_accuracy_score, auc, accuracy_score, precision_score, recall_score, f1_score, roc_auc_score, roc_curve\n",
    "from torchvision.transforms import Compose, ToTensor\n",
    "import sklearn.metrics\n",
    "import seaborn as sns\n",
    "from sklearn.metrics import confusion_matrix\n",
    "import matplotlib.pyplot as plt\n",
    "import random\n",
    "from sklearn.utils import class_weight\n",
    "\n",
    "\n",
    "def get_patient_prediction(df, fold_idx):\n",
    "\tunique_patients = list(df[\"patient_ID\"].unique())\n",
    "\tgrouped_df = df.groupby(\"patient_ID\")\n",
    "\trows = [ ]\n",
    "\tfor patient in unique_patients:\n",
    "\t\tpatient_df = grouped_df.get_group(patient)\n",
    "\t\ttemp = { }\n",
    "\t\ttemp[\"patient_ID\"] = patient\n",
    "\t\ttemp[\"y_true\"] = list(patient_df[\"y_true\"].unique())[0]\n",
    "\t\ttemp[\"y_pred\"] = patient_df[\"y_pred\"].mode()[0]\n",
    "\t\ttemp[\"y_probs\"] = patient_df[\"y_probs\"].mean()\n",
    "\t\trows.append(temp)\n",
    "\treturn_df = pd.DataFrame(rows)\n",
    "\n",
    "\treturn np.array(list(return_df[\"y_probs\"])), list(return_df[\"y_true\"]), list(return_df[\"y_pred\"])\n",
    "\n",
    "\n",
    "if __name__ == \"__main__\":\n",
    "\n",
    "\tGPU_IDX = 0\n",
    "\tEXPERIMENT_NAME = \"eeg_gnn\"\n",
    "\tBATCH_SIZE = 32\n",
    "\tSFREQ = 250.0\n",
    "\tNUM_EPOCHS = 150\n",
    "\tWORKERS = 2\n",
    "\n",
    "\tMASTER_DATASET_INDEX = 7200\n",
    "\ttrain_indices = []\n",
    "\ttest_subjects = []\n",
    "\tval_indices = []\n",
    "\trem_subjects = []\n",
    "\n",
    "\tDEVICE = torch.device('cuda:{}'.format(GPU_IDX) if torch.cuda.is_available() else 'cpu')\n",
    "\t\n",
    "\tX = np.load(\"./drive/MyDrive/ML_Project/X_psd_epilepsy_corpus.npy\", allow_pickle=True)\n",
    "\ty = np.load(\"./drive/MyDrive/ML_Project/y_epilepsy_corpus.npy\", allow_pickle=True)\n",
    "  \n",
    "\tpinf = float('+inf')\n",
    "\tninf = float('-inf')\n",
    "\tfnan = float('nan')\n",
    "\tfor i in range(len(X)):\n",
    "\t\tfor j in range(len(X[i])):\n",
    "\t\t\tif X[i][j]==pinf:  \n",
    "\t\t\t\tX[i][j]=1\n",
    "\t\t\telif X[i][j]==ninf:  \n",
    "\t\t\t\tX[i][j]=-1\n",
    "\t\t\telif X[i][j]==fnan:  \n",
    "\t\t\t\tX[i][j]=0\n",
    "\t\n",
    "\tindices = []\n",
    "\tfor i in range(len(y)):\n",
    "\t\tindices.append(i)\n",
    "\ttrain_indices, test_subjects = train_test_split(indices, test_size=0.2)\n",
    "\ttrain_indices, val_indices = train_test_split(train_indices, test_size=0.2)\n",
    "\tX_train, X_test, X_val = [], [], []\n",
    "\ty_train, y_test, y_val = [], [], []\n",
    "\tfor i in train_indices:\n",
    "\t\tX_train.append(X[i])\n",
    "\t\ty_train.append(y[i])\n",
    "\tfor i in test_subjects:\n",
    "\t\tX_test.append(X[i])\n",
    "\t\ty_test.append(y[i])\n",
    "\tfor i in val_indices:\n",
    "\t\tX_val.append(X[i])\n",
    "\t\ty_val.append(y[i])\n",
    "\n",
    "\tX_train, y_train = np.array(X_train), np.array(y_train)\n",
    "\tX_test, y_test = np.array(X_test), np.array(y_test)\n",
    "\tX_val, y_val = np.array(X_val), np.array(y_val)\n",
    "  \n",
    "\tclass_weights = class_weight.compute_class_weight(class_weight='balanced',classes= np.unique(y_train),y= y_train)\n",
    "\tclass_weights=torch.tensor(class_weights,dtype=torch.float)\n",
    "\tprint(class_weights)\n",
    " \n",
    "\tnormd_x = []\n",
    "\tfor i in range(len(y)):\n",
    "\t\tarr = X[i, :]\n",
    "\t\tarr = arr.reshape(1, -1)\n",
    "\t\tarr2 = preprocessing.normalize(arr)\n",
    "\t\tarr2 = arr2.reshape(19*6)\n",
    "\t\tnormd_x.append(arr2)\n",
    "\t\n",
    "\tnorm = np.array(normd_x)\n",
    "\tX = norm.reshape(len(y), 19*6)\n",
    "\n",
    "\tlabel_mapping, y_train = np.unique(y_train, return_inverse = True)\n",
    "\tlabel_mapping_test, y_test = np.unique(y_test, return_inverse = True)\n",
    "\tlabel_mapping_val, y_val = np.unique(y_val, return_inverse = True)\n",
    "\tprint(\"Unique labels to 0-8 mapping:\", label_mapping)\n",
    "\n",
    "\tmodel = EEGGraphConvNet(reduced_sensors=False)\n",
    "\tmodel = model.to(DEVICE).double()\n",
    "\n",
    "\tlabels_unique, counts = np.unique(y, return_counts=True)\n",
    "\n",
    "\ttrain_dataset = EEGGraphDataset(X=X_train, y=y_train, indices=[i for i in range(len(X_train))], loader_type=\"train\", sfreq=SFREQ, transform=Compose([ToTensor()]))\n",
    "\ttrain_loader = DataLoader(dataset=train_dataset, shuffle=False, batch_size = BATCH_SIZE, num_workers = WORKERS)\n",
    "\t\n",
    "\tval_dataset = EEGGraphDataset(X=X_val, y=y_val, indices=[i for i in range(len(X_val))], loader_type=\"validation\", sfreq=SFREQ, transform=Compose([ToTensor()]))\n",
    "\tval_loader = DataLoader(dataset=val_dataset, shuffle=False, batch_size = BATCH_SIZE, num_workers = WORKERS)\n",
    "\n",
    "\tloss_function = torch.nn.CrossEntropyLoss()\n",
    "\toptimizer = torch.optim.Adam(model.parameters(), lr=0.0001)\n",
    "\tscheduler = torch.optim.lr_scheduler.MultiStepLR(optimizer, milestones=[i*10 for i in range(1, 26)], gamma=0.1)\n",
    "\n",
    "\taccuracy_pts = []\n",
    "\tvalidation_accuracy_pts = []\n",
    "\tloss_pts = []\n",
    "\tx_params = []\n",
    "\n",
    "\tfor epoch in range(NUM_EPOCHS):\n",
    "\n",
    "\t\tmodel.train()\n",
    "\t\ttrain_loss = []\n",
    "\t\tval_loss = []\n",
    "\n",
    "\t\ty_probs_train = torch.empty(0, 9).to(DEVICE)\n",
    "\n",
    "\t\ty_true_train = [ ]\n",
    "\t\ty_pred_train = [ ]\n",
    "\t\twindow_indices_train = [ ]\n",
    "\t\tlosses = 0.0\n",
    "\t\tloss = torch.nn.CrossEntropyLoss(weight=torch.tensor(class_weights),reduction='mean')\n",
    "\n",
    "\t\tfor batch_idx, batch in enumerate(train_loader):\n",
    "\n",
    "\t\t\tX_batch = batch.to(device=DEVICE, non_blocking=True)\n",
    "\t\t\ty_batch = torch.tensor(batch.y)\n",
    "\t\t\ty_batch = y_batch.to(device=DEVICE, non_blocking=True)\n",
    "\t\t\twindow_indices_train += X_batch.dataset_idx.cpu().numpy().tolist()\n",
    "\t\t\toptimizer.zero_grad()\n",
    "\n",
    "\t\t\toutputs = model(X_batch.x, X_batch.edge_index, X_batch.edge_attr, X_batch.batch).float()\n",
    "\n",
    "\t\t\tloss_ob = loss(outputs, y_batch)\n",
    "\t\t\tlosses += loss_ob.item()\n",
    "\t\t\ttrain_loss.append(loss_ob.item())\n",
    "\t\t\tloss_ob.backward()\n",
    "\n",
    "\t\t\t_, predicted = torch.max(outputs.data, 1)\n",
    "\t\t\ty_pred_train += predicted.cpu().numpy().tolist()\n",
    "\n",
    "\t\t\ty_probs_train = torch.cat((y_probs_train, outputs.data), 0)\n",
    "\t\t\ty_true_train += y_batch.cpu().numpy().tolist()\n",
    "\n",
    "\t\t\toptimizer.step()\n",
    "\t\tscheduler.step()\n",
    "\t\tepoch_loss = losses / len(train_loader)\n",
    "\t\tloss_pts.append(epoch_loss)\n",
    "\t\ty_probs_train = torch.nn.functional.softmax(y_probs_train, dim=1).cpu().numpy()\n",
    "\t\ty_true_train = np.array(y_true_train)\n",
    "\n",
    "\t\tmodel.eval()\n",
    "\t\twith torch.no_grad():\n",
    "\t\t\ty_probs_val = torch.empty(0, 9).to(DEVICE)\n",
    "\n",
    "\t\t\ty_true_val = [ ]\n",
    "\t\t\ty_pred_val = [ ]\n",
    "\t\t\twindow_indices_val = [ ]\n",
    "\n",
    "\t\t\tfor i, batch in enumerate(val_loader):\n",
    "\t\t\t\tX_batch = batch.to(device=DEVICE, non_blocking=True)\n",
    "\t\t\t\ty_batch = torch.tensor(batch.y)\n",
    "\t\t\t\ty_batch = y_batch.to(device=DEVICE, non_blocking=True)\n",
    "\t\t\t\twindow_indices_val += X_batch.dataset_idx.cpu().numpy().tolist()\n",
    "\t\t\t\toutputs = model(X_batch.x, X_batch.edge_index, X_batch.edge_attr, X_batch.batch).float()\n",
    "\n",
    "\t\t\t\tloss = loss_function(outputs, y_batch)\n",
    "\t\t\t\tval_loss.append(loss.item())\n",
    "\n",
    "\t\t\t\t_, predicted = torch.max(outputs.data, 1)\n",
    "\t\t\t\ty_pred_val += predicted.cpu().numpy().tolist()\n",
    "\n",
    "\t\t\t\ty_probs_val = torch.cat((y_probs_val, outputs.data), 0)\n",
    "\t\t\t\ty_true_val += y_batch.cpu().numpy().tolist()\n",
    "\n",
    "\t\ty_probs_val = torch.nn.functional.softmax(y_probs_val, dim=1).cpu().numpy()\n",
    "\t\ty_true_val = np.array(y_true_val)\n",
    "\n",
    "\t\tprint(f'Epoch: {epoch}---', end=\" | \")\n",
    "\t\tprint(f\"Accuracy : {sklearn.metrics.accuracy_score(y_true_train, y_pred_train):.3f}, Loss: {loss_pts[-1]:.3f}\", end=\" | \")\n",
    "\t\tprint(f\"Validation Accuracy : {sklearn.metrics.accuracy_score(y_true_val, y_pred_val):.3f}\")\n",
    "\t\taccuracy_pts.append(sklearn.metrics.accuracy_score(y_true_train, y_pred_train))\n",
    "\t\tvalidation_accuracy_pts.append(sklearn.metrics.accuracy_score(y_true_val, y_pred_val))\n",
    "\t\tx_params.append(epoch+1)\n",
    "\t\n"
   ]
  },
  {
   "cell_type": "code",
   "execution_count": 18,
   "metadata": {
    "colab": {
     "base_uri": "https://localhost:8080/",
     "height": 244
    },
    "id": "QUE2lnhuJDA5",
    "outputId": "5caa9827-888e-4e61-f93c-f225edbd10d0"
   },
   "outputs": [
    {
     "data": {
      "text/plain": [
       "[<matplotlib.lines.Line2D at 0x7f3f750f6cd0>]"
      ]
     },
     "execution_count": 18,
     "metadata": {},
     "output_type": "execute_result"
    },
    {
     "data": {
      "image/png": "[encoded data removed]",
      "text/plain": [
       "<Figure size 1440x216 with 1 Axes>"
      ]
     },
     "metadata": {
      "needs_background": "light"
     },
     "output_type": "display_data"
    }
   ],
   "source": [
    "plt.rcParams[\"figure.figsize\"] = (20,3)\n",
    "plt.title(\"Training Accuracy\")\n",
    "plt.plot(x_params[:150], accuracy_pts[:150])"
   ]
  },
  {
   "cell_type": "code",
   "execution_count": 19,
   "metadata": {
    "colab": {
     "base_uri": "https://localhost:8080/",
     "height": 244
    },
    "id": "BDF8uEoqJFT9",
    "outputId": "0cb62672-db91-480c-9e38-e555054a7ada"
   },
   "outputs": [
    {
     "data": {
      "text/plain": [
       "[<matplotlib.lines.Line2D at 0x7f3f75038430>]"
      ]
     },
     "execution_count": 19,
     "metadata": {},
     "output_type": "execute_result"
    },
    {
     "data": {
      "image/png": "[encoded data removed]",
      "text/plain": [
       "<Figure size 1440x216 with 1 Axes>"
      ]
     },
     "metadata": {
      "needs_background": "light"
     },
     "output_type": "display_data"
    }
   ],
   "source": [
    "\n",
    "plt.title(\"Loss\")\n",
    "plt.plot(x_params[:150], loss_pts[:150])"
   ]
  },
  {
   "cell_type": "code",
   "execution_count": 20,
   "metadata": {
    "colab": {
     "base_uri": "https://localhost:8080/",
     "height": 244
    },
    "id": "YRuXtJIpKTCi",
    "outputId": "1006a5d5-1beb-4c9d-8262-29867b4fb5b0"
   },
   "outputs": [
    {
     "data": {
      "text/plain": [
       "[<matplotlib.lines.Line2D at 0x7f3f75009730>]"
      ]
     },
     "execution_count": 20,
     "metadata": {},
     "output_type": "execute_result"
    },
    {
     "data": {
      "image/png": "[encoded data removed]",
      "text/plain": [
       "<Figure size 1440x216 with 1 Axes>"
      ]
     },
     "metadata": {
      "needs_background": "light"
     },
     "output_type": "display_data"
    }
   ],
   "source": [
    "plt.title(\"Validation Accuracy\")\n",
    "plt.plot(x_params[:150], validation_accuracy_pts[:150])"
   ]
  },
  {
   "cell_type": "code",
   "execution_count": 15,
   "metadata": {
    "colab": {
     "base_uri": "https://localhost:8080/"
    },
    "id": "Ps2hWxX9v9Pm",
    "outputId": "a6930c6e-b99f-476d-a1d7-78f9a353d2df"
   },
   "outputs": [
    {
     "name": "stderr",
     "output_type": "stream",
     "text": [
      "/usr/local/lib/python3.8/dist-packages/torch_geometric/deprecation.py:12: UserWarning: 'data.DataLoader' is deprecated, use 'loader.DataLoader' instead\n",
      "  warnings.warn(out)\n"
     ]
    },
    {
     "name": "stdout",
     "output_type": "stream",
     "text": [
      "Test Accuracy : 0.744\n"
     ]
    }
   ],
   "source": [
    "\n",
    "test_dataset = EEGGraphDataset(X=X_test, y=y_test, indices=[i for i in range(len(X_test))], loader_type=\"test\", sfreq=SFREQ, transform=Compose([ToTensor()]))\n",
    "test_loader = DataLoader(dataset=test_dataset, shuffle=False, batch_size = BATCH_SIZE, num_workers = WORKERS)\n",
    "model.eval()\n",
    "with torch.no_grad():\n",
    "\ty_probs_val = torch.empty(0, 9).to(DEVICE)\n",
    "\ty_true_val = [ ]\n",
    "\ty_pred_val = [ ]\n",
    "\twindow_indices_val = [ ]\n",
    "\tfor i, batch in enumerate(test_loader):\n",
    "\t\t\tX_batch = batch.to(device=DEVICE, non_blocking=True)\n",
    "\t\t\ty_batch = torch.tensor(batch.y)\n",
    "\t\t\ty_batch = y_batch.to(device=DEVICE, non_blocking=True)\n",
    "\t\t\twindow_indices_val += X_batch.dataset_idx.cpu().numpy().tolist()\n",
    "\t\t\ttry:\n",
    "\t\t\t\toutputs = model(X_batch.x, X_batch.edge_index, X_batch.edge_attr, X_batch.batch).float()\n",
    "\t\t\t\tloss = loss_function(outputs, y_batch)\n",
    "\t\t\t\tval_loss.append(loss.item())\n",
    "\t\t\t\t_, predicted = torch.max(outputs.data, 1)\n",
    "\t\t\t\ty_pred_val += predicted.cpu().numpy().tolist()\n",
    "\t\t\t\ty_probs_val = torch.cat((y_probs_val, outputs.data), 0)\n",
    "\t\t\t\ty_true_val += y_batch.cpu().numpy().tolist()\n",
    "\t\t\texcept:\n",
    "\t\t\t\tpass\n",
    "y_probs_val = torch.nn.functional.softmax(y_probs_val, dim=1).cpu().numpy()\n",
    "y_true_val = np.array(y_true_val)\n",
    "print(f\"Test Accuracy : {sklearn.metrics.accuracy_score(y_true_val, y_pred_val):.3f}\")"
   ]
  },
  {
   "cell_type": "code",
   "execution_count": 16,
   "metadata": {
    "colab": {
     "base_uri": "https://localhost:8080/",
     "height": 225
    },
    "id": "OSM7OcN2ob3s",
    "outputId": "727e7cc3-beba-452f-f6bb-433b50c5a781"
   },
   "outputs": [
    {
     "data": {
      "image/png": "[encoded data removed]",
      "text/plain": [
       "<Figure size 1440x216 with 2 Axes>"
      ]
     },
     "metadata": {
      "needs_background": "light"
     },
     "output_type": "display_data"
    }
   ],
   "source": [
    "confusion_matrix = sklearn.metrics.confusion_matrix(y_true_val, y_pred_val)\n",
    "cm_display = sklearn.metrics.ConfusionMatrixDisplay(confusion_matrix = confusion_matrix, display_labels = label_mapping)\n",
    "#cm_display.plot()\n",
    "plt.rcParams[\"figure.figsize\"] = (20,3)\n",
    "cm_display.plot()\n",
    "plt.axis('tight')\n",
    "plt.show()"
   ]
  },
  {
   "cell_type": "code",
   "execution_count": 17,
   "metadata": {
    "colab": {
     "base_uri": "https://localhost:8080/",
     "height": 1000
    },
    "id": "f8UIjveoWkzo",
    "outputId": "1b4a0f10-7c07-4b1e-c5c0-fe877af0958a"
   },
   "outputs": [
    {
     "data": {
      "image/png": "[encoded data removed]",
      "text/plain": [
       "<Figure size 432x432 with 1 Axes>"
      ]
     },
     "metadata": {
      "needs_background": "light"
     },
     "output_type": "display_data"
    },
    {
     "data": {
      "image/png": "[encoded data removed]",
      "text/plain": [
       "<Figure size 432x432 with 1 Axes>"
      ]
     },
     "metadata": {
      "needs_background": "light"
     },
     "output_type": "display_data"
    },
    {
     "data": {
      "image/png": "[encoded data removed]",
      "text/plain": [
       "<Figure size 432x432 with 1 Axes>"
      ]
     },
     "metadata": {
      "needs_background": "light"
     },
     "output_type": "display_data"
    },
    {
     "data": {
      "image/png": "[encoded data removed]",
      "text/plain": [
       "<Figure size 432x432 with 1 Axes>"
      ]
     },
     "metadata": {
      "needs_background": "light"
     },
     "output_type": "display_data"
    },
    {
     "data": {
      "image/png": "[encoded data removed]",
      "text/plain": [
       "<Figure size 432x432 with 1 Axes>"
      ]
     },
     "metadata": {
      "needs_background": "light"
     },
     "output_type": "display_data"
    },
    {
     "data": {
      "image/png": "[encoded data removed]",
      "text/plain": [
       "<Figure size 432x432 with 1 Axes>"
      ]
     },
     "metadata": {
      "needs_background": "light"
     },
     "output_type": "display_data"
    },
    {
     "data": {
      "image/png": "[encoded data removed]",
      "text/plain": [
       "<Figure size 432x432 with 1 Axes>"
      ]
     },
     "metadata": {
      "needs_background": "light"
     },
     "output_type": "display_data"
    },
    {
     "data": {
      "image/png": "[encoded data removed]",
      "text/plain": [
       "<Figure size 432x432 with 1 Axes>"
      ]
     },
     "metadata": {
      "needs_background": "light"
     },
     "output_type": "display_data"
    },
    {
     "data": {
      "image/png": "[encoded data removed]",
      "text/plain": [
       "<Figure size 432x432 with 1 Axes>"
      ]
     },
     "metadata": {
      "needs_background": "light"
     },
     "output_type": "display_data"
    }
   ],
   "source": [
    "from sklearn.preprocessing import LabelBinarizer\n",
    "import matplotlib.pyplot as plt\n",
    "from sklearn.metrics import RocCurveDisplay\n",
    "\n",
    "label_binarizer = LabelBinarizer().fit(y_train)\n",
    "y_onehot_test = label_binarizer.transform(y_test)\n",
    "plt.rcParams[\"figure.figsize\"] = (6,6)\n",
    "for lb in range(9):\n",
    "    label_binarizer.transform([lb])\n",
    "    class_of_interest = lb\n",
    "    class_id = np.flatnonzero(label_binarizer.classes_ == class_of_interest)[0]\n",
    "    y_predicted = np.array(y_probs_val)\n",
    "    RocCurveDisplay.from_predictions(\n",
    "        y_onehot_test[:, class_id],\n",
    "        y_predicted[:, class_id],\n",
    "        name=f\"{label_mapping[class_of_interest]} vs the rest\",\n",
    "        color=\"darkorange\",\n",
    "    )\n",
    "    plt.plot([0, 1], [0, 1], \"k--\", label=\"chance level (AUC = 0.5)\")\n",
    "    plt.axis(\"square\")\n",
    "    plt.xlabel(\"False Positive Rate\")\n",
    "    plt.ylabel(\"True Positive Rate\")\n",
    "    plt.title(f\"One-vs-Rest ROC curves:\\n {label_mapping[class_of_interest]} vs the rest\")\n",
    "    plt.legend()\n",
    "    plt.show()"
   ]
  },
  {
   "cell_type": "code",
   "execution_count": null,
   "metadata": {
    "id": "OcgONmwuWolI"
   },
   "outputs": [],
   "source": []
  }
 ],
 "metadata": {
  "colab": {
   "provenance": []
  },
  "gpuClass": "standard",
  "kernelspec": {
   "display_name": "Python 3 (ipykernel)",
   "language": "python",
   "name": "python3"
  },
  "language_info": {
   "codemirror_mode": {
    "name": "ipython",
    "version": 3
   },
   "file_extension": ".py",
   "mimetype": "text/x-python",
   "name": "python",
   "nbconvert_exporter": "python",
   "pygments_lexer": "ipython3",
   "version": "3.7.4"
  },
  "vscode": {
   "interpreter": {
    "hash": "e8b2ec3c4db5b2383dfe3d91ffda8781febe28c46761f045d4d359bcc999436a"
   }
  }
 },
 "nbformat": 4,
 "nbformat_minor": 4
}
